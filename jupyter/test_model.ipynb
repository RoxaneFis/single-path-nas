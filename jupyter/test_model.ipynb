{
 "cells": [
  {
   "cell_type": "code",
   "execution_count": 23,
   "metadata": {},
   "outputs": [],
   "source": [
    "from __future__ import absolute_import\n",
    "from __future__ import division\n",
    "from __future__ import print_function\n",
    "\n",
    "import os\n",
    "import time\n",
    "from absl import app\n",
    "from absl import flags\n",
    "import numpy as np\n",
    "import tensorflow as tf\n",
    "\n",
    "\n",
    "from tensorflow.contrib.tpu.python.tpu import async_checkpoint\n",
    "from tensorflow.contrib.training.python.training import evaluation\n",
    "from tensorflow.core.protobuf import rewriter_config_pb2\n",
    "from tensorflow.python.estimator import estimator\n",
    "from tensorflow.python.keras import backend as K\n"
   ]
  },
  {
   "cell_type": "code",
   "execution_count": 24,
   "metadata": {},
   "outputs": [],
   "source": [
    "import sys\n",
    "sys.path.append('../nas-search')\n",
    "import search_main, imagenet_input\n",
    "from search_main import nas_model_fn\n",
    "\n",
    "\n",
    "FLAGS = flags.FLAGS\n",
    "FLAGS([\"data_format, input_image_size, num_label_classes, num_eval_images, eval_batch_size, num_train_images, train_batch_size, use_tpu\"])\n",
    "flags.FLAGS.data_format=\"channels_last\"\n",
    "flags.FLAGS.input_image_size = 64\n",
    "flags.FLAGS.num_label_classes =200\n",
    "#flags.FLAGS.num_label_classes =10\n",
    "flags.FLAGS.num_eval_images=9832\n",
    "flags.FLAGS.eval_batch_size=1024\n",
    "flags.FLAGS.num_train_images=100000\n",
    "flags.FLAGS.train_batch_size=1024\n",
    "flags.FLAGS.use_tpu=False"
   ]
  },
  {
   "cell_type": "markdown",
   "metadata": {},
   "source": [
    "# Hyperparameters"
   ]
  },
  {
   "cell_type": "code",
   "execution_count": 25,
   "metadata": {},
   "outputs": [],
   "source": [
    "model_dir = \"/Users/roxanefischer/Desktop/models_tiny_imagenet_v2\"\n",
    "data_dir = \"/Users/roxanefischer/Documents/cours/3A/Stage_ML/single-path-nas/other/tiny_imagenet/all\"\n",
    "ckpt =\"/Users/roxanefischer/Desktop/models_tiny_imagenet_v2/model.ckpt-10000\"\n",
    "#ckpt=\"/Users/roxanefischer/Desktop/cifar/models/model.ckpt-6\"\n",
    "\n",
    "save_checkpoints_steps=10000\n",
    "log_step_count_steps=64\n",
    "iterations_per_loop=10000\n",
    "num_parallel_calls=64\n",
    "\n",
    "num_train_images=100000\n",
    "train_batch_size=1024\n",
    "\n",
    "num_eval_images=9832\n",
    "eval_batch_size=1024\n",
    "\n",
    "predict_batch_size=3\n",
    "\n",
    "use_tpu=False\n",
    "export_to_tpu=False\n",
    "transpose_input = True\n",
    "use_cache=True\n",
    "\n",
    "#tiny_image_net\n",
    "input_image_size=64"
   ]
  },
  {
   "cell_type": "markdown",
   "metadata": {},
   "source": [
    "# Define NAS Model"
   ]
  },
  {
   "cell_type": "code",
   "execution_count": 26,
   "metadata": {},
   "outputs": [
    {
     "output_type": "stream",
     "name": "stdout",
     "text": "INFO:tensorflow:Using config: {'_model_dir': '/Users/roxanefischer/Desktop/models_tiny_imagenet_v2', '_tf_random_seed': None, '_save_summary_steps': 100, '_save_checkpoints_steps': 10000, '_save_checkpoints_secs': None, '_session_config': graph_options {\n  rewrite_options {\n    disable_meta_optimizer: true\n  }\n}\n, '_keep_checkpoint_max': 5, '_keep_checkpoint_every_n_hours': 10000, '_log_step_count_steps': None, '_train_distribute': None, '_device_fn': None, '_protocol': None, '_eval_distribute': None, '_experimental_distribute': None, '_service': None, '_cluster_spec': None, '_task_type': 'worker', '_task_id': 0, '_global_id_in_cluster': 0, '_master': b'', '_evaluation_master': b'', '_is_chief': True, '_num_ps_replicas': 0, '_num_worker_replicas': 1, '_tpu_config': TPUConfig(iterations_per_loop=10000, num_shards=None, num_cores_per_replica=None, per_host_input_for_training=3, tpu_job_name=None, initial_infeed_sleep_secs=None, input_partition_dims=None), '_cluster': <tensorflow.contrib.cluster_resolver.python.training.tpu_cluster_resolver.TPUClusterResolver object at 0x645209fd0>}\nINFO:tensorflow:_TPUContext: eval_on_tpu True\nWARNING:tensorflow:eval_on_tpu ignored because use_tpu is False.\n"
    }
   ],
   "source": [
    "  tpu_cluster_resolver = tf.contrib.cluster_resolver.TPUClusterResolver('',zone=None, project=None)\n",
    "  \n",
    "  config = tf.contrib.tpu.RunConfig(\n",
    "      cluster=tpu_cluster_resolver,\n",
    "      model_dir=model_dir,\n",
    "      save_checkpoints_steps=save_checkpoints_steps,\n",
    "      log_step_count_steps=log_step_count_steps,\n",
    "      session_config=tf.ConfigProto(\n",
    "          graph_options=tf.GraphOptions(\n",
    "              rewrite_options=rewriter_config_pb2.RewriterConfig(\n",
    "                  disable_meta_optimizer=True))),\n",
    "      tpu_config=tf.contrib.tpu.TPUConfig(\n",
    "          iterations_per_loop=iterations_per_loop,\n",
    "          per_host_input_for_training=tf.contrib.tpu.InputPipelineConfig\n",
    "          .PER_HOST_V2))  # pylint: disable=line-too-long\n",
    "  # Initializes model parameters.\n",
    "  params = dict(steps_per_epoch=num_train_images / train_batch_size)\n",
    "  nas_est = tf.contrib.tpu.TPUEstimator(\n",
    "      use_tpu=use_tpu,\n",
    "      model_fn=nas_model_fn,\n",
    "      config=config,\n",
    "      train_batch_size=train_batch_size,\n",
    "      eval_batch_size=eval_batch_size,\n",
    "      predict_batch_size=predict_batch_size,\n",
    "      export_to_tpu=export_to_tpu,\n",
    "      params=params)"
   ]
  },
  {
   "cell_type": "markdown",
   "metadata": {},
   "source": [
    "# Load datasets"
   ]
  },
  {
   "cell_type": "code",
   "execution_count": 27,
   "metadata": {},
   "outputs": [],
   "source": [
    "imagenet_train, imagenet_eval = [\n",
    "    imagenet_input.ImageNetInput(\n",
    "        is_training=is_training,\n",
    "        data_dir=data_dir,\n",
    "        transpose_input=transpose_input,\n",
    "        cache=use_cache and is_training,\n",
    "        image_size=input_image_size,\n",
    "        num_parallel_calls=num_parallel_calls,\n",
    "        use_bfloat16=False) for is_training in [True, False]\n",
    "]"
   ]
  },
  {
   "cell_type": "markdown",
   "metadata": {},
   "source": [
    "# Evaluation on train and test sets"
   ]
  },
  {
   "cell_type": "code",
   "execution_count": 28,
   "metadata": {},
   "outputs": [],
   "source": [
    "eval_steps = num_eval_images // eval_batch_size\n",
    "def eval_results(ckpt =\"/Users/roxanefischer/Desktop/models_tiny_imagenet_v2/model.ckpt-10000\", eval_steps = eval_steps):\n",
    "    eval_results = nas_est.evaluate(\n",
    "        input_fn=imagenet_eval.input_fn,\n",
    "        steps=eval_steps,\n",
    "        checkpoint_path=ckpt)\n",
    "    return eval_results\n",
    "\n",
    "train_steps = num_train_images // train_batch_size\n",
    "def train_results(ckpt =\"/Users/roxanefischer/Desktop/models_tiny_imagenet_v2/model.ckpt-10000\", train_steps = train_steps):\n",
    "    train_results = nas_est.evaluate(\n",
    "        input_fn=imagenet_train.input_fn,\n",
    "        steps=train_steps,\n",
    "        checkpoint_path=ckpt)\n",
    "    return train_results"
   ]
  },
  {
   "cell_type": "markdown",
   "metadata": {},
   "source": [
    "# Results"
   ]
  },
  {
   "cell_type": "markdown",
   "metadata": {},
   "source": [
    "## NAS Search"
   ]
  },
  {
   "cell_type": "markdown",
   "metadata": {},
   "source": [
    "## Checkpoint 10000 on TinyImagenet\n",
    "\n",
    "### Eval results\n",
    "\n",
    "{ALL global_step = 10000, loss = 407.13586, **top_1_accuracy = 0.006184896, top_5_accuracy = 0.024631076**}\n",
    "\n",
    "### Train results \n",
    "\n",
    "{ALL global_step = 10000, loss = 403.2064, **top_1_accuracy = 0.35014296, top_5_accuracy = 0.60899246**}\n"
   ]
  },
  {
   "cell_type": "markdown",
   "metadata": {},
   "source": [
    "## Checkpoint 785 on TinyImagenet\n",
    "\n",
    "### Eval results\n",
    "\n",
    "{1  : global_step = 785, loss = 498.46667, **top_1_accuracy = 0.0048828125, top_5_accuracy = 0.0234375**}\n",
    "\n",
    "{All :global_step = 785, loss = 498.53845, **top_1_accuracy = 0.0046657985, top_5_accuracy = 0.025282118**}\n",
    "\n",
    "### Train results \n",
    "\n",
    "{1 : global_step = 785, loss = 496.75244, **top_1_accuracy = 0.022460938, top_5_accuracy = 0.064453125**}\n",
    "\n",
    "{All : global_step = 785, loss = 496.75757, top_1_accuracy = 0.017386839, top_5_accuracy = 0.055271424}\n",
    "\n"
   ]
  },
  {
   "cell_type": "markdown",
   "metadata": {},
   "source": [
    "### 1 eval_step on eval_dataset model ckpt = 785\n",
    "{'loss': 498.56723,\n",
    " 'top_1_accuracy': 0.005859375,\n",
    " 'top_5_accuracy': 0.025390625,\n",
    " 'global_step': 785}\n",
    "\n",
    " {'loss': 498.4192,\n",
    " 'top_1_accuracy': 0.0068359375,\n",
    " 'top_5_accuracy': 0.025390625,\n",
    " 'global_step': 785}\n",
    "\n",
    "{'loss': 498.5098,\n",
    " 'top_1_accuracy': 0.0029296875,\n",
    " 'top_5_accuracy': 0.02734375,\n",
    " 'global_step': 785}\n",
    "\n",
    "{'loss': 498.39905,\n",
    " 'top_1_accuracy': 0.005859375,\n",
    " 'top_5_accuracy': 0.024414062,\n",
    " 'global_step': 785}\n",
    "\n",
    " "
   ]
  },
  {
   "cell_type": "code",
   "execution_count": 29,
   "metadata": {
    "tags": [
     "outputPrepend"
    ]
   },
   "outputs": [
    {
     "output_type": "stream",
     "name": "stdout",
     "text": "Add:0 shape: (64, 8, 1, 40)\nINFO:tensorflow:Expand: single-path-search/single_path_super_net/mnas_blocks_8/Relu:0 shape: (64, 8, 1, 240)\nINFO:tensorflow:DWConv: single-path-search/single_path_super_net/mnas_blocks_8/Relu_1:0 shape: (64, 8, 1, 240)\nINFO:tensorflow:Project: single-path-search/single_path_super_net/mnas_blocks_8/Add:0 shape: (64, 8, 1, 40)\nINFO:tensorflow:Block input: single-path-search/single_path_super_net/mnas_blocks_8/Add:0 shape: (64, 8, 1, 40)\nINFO:tensorflow:Expand: single-path-search/single_path_super_net/mnas_blocks_9/Relu:0 shape: (64, 8, 1, 240)\nINFO:tensorflow:DWConv: single-path-search/single_path_super_net/mnas_blocks_9/Relu_1:0 shape: (64, 4, 1, 240)\nINFO:tensorflow:Project: single-path-search/single_path_super_net/mnas_blocks_9/batch_normalization_2/FusedBatchNorm:0 shape: (64, 4, 1, 80)\nINFO:tensorflow:Block input: single-path-search/single_path_super_net/mnas_blocks_9/batch_normalization_2/FusedBatchNorm:0 shape: (64, 4, 1, 80)\nINFO:tensorflow:Expand: single-path-search/single_path_super_net/mnas_blocks_10/Relu:0 shape: (64, 4, 1, 480)\nINFO:tensorflow:DWConv: single-path-search/single_path_super_net/mnas_blocks_10/Relu_1:0 shape: (64, 4, 1, 480)\nINFO:tensorflow:Project: single-path-search/single_path_super_net/mnas_blocks_10/Add:0 shape: (64, 4, 1, 80)\nINFO:tensorflow:Block input: single-path-search/single_path_super_net/mnas_blocks_10/Add:0 shape: (64, 4, 1, 80)\nINFO:tensorflow:Expand: single-path-search/single_path_super_net/mnas_blocks_11/Relu:0 shape: (64, 4, 1, 480)\nINFO:tensorflow:DWConv: single-path-search/single_path_super_net/mnas_blocks_11/Relu_1:0 shape: (64, 4, 1, 480)\nINFO:tensorflow:Project: single-path-search/single_path_super_net/mnas_blocks_11/Add:0 shape: (64, 4, 1, 80)\nINFO:tensorflow:Block input: single-path-search/single_path_super_net/mnas_blocks_11/Add:0 shape: (64, 4, 1, 80)\nINFO:tensorflow:Expand: single-path-search/single_path_super_net/mnas_blocks_12/Relu:0 shape: (64, 4, 1, 480)\nINFO:tensorflow:DWConv: single-path-search/single_path_super_net/mnas_blocks_12/Relu_1:0 shape: (64, 4, 1, 480)\nINFO:tensorflow:Project: single-path-search/single_path_super_net/mnas_blocks_12/Add:0 shape: (64, 4, 1, 80)\nINFO:tensorflow:Block input: single-path-search/single_path_super_net/mnas_blocks_12/Add:0 shape: (64, 4, 1, 80)\nINFO:tensorflow:Expand: single-path-search/single_path_super_net/mnas_blocks_13/Relu:0 shape: (64, 4, 1, 480)\nINFO:tensorflow:DWConv: single-path-search/single_path_super_net/mnas_blocks_13/Relu_1:0 shape: (64, 4, 1, 480)\nINFO:tensorflow:Project: single-path-search/single_path_super_net/mnas_blocks_13/batch_normalization_2/FusedBatchNorm:0 shape: (64, 4, 1, 96)\nINFO:tensorflow:Block input: single-path-search/single_path_super_net/mnas_blocks_13/batch_normalization_2/FusedBatchNorm:0 shape: (64, 4, 1, 96)\nINFO:tensorflow:Expand: single-path-search/single_path_super_net/mnas_blocks_14/Relu:0 shape: (64, 4, 1, 576)\nINFO:tensorflow:DWConv: single-path-search/single_path_super_net/mnas_blocks_14/Relu_1:0 shape: (64, 4, 1, 576)\nINFO:tensorflow:Project: single-path-search/single_path_super_net/mnas_blocks_14/Add:0 shape: (64, 4, 1, 96)\nINFO:tensorflow:Block input: single-path-search/single_path_super_net/mnas_blocks_14/Add:0 shape: (64, 4, 1, 96)\nINFO:tensorflow:Expand: single-path-search/single_path_super_net/mnas_blocks_15/Relu:0 shape: (64, 4, 1, 576)\nINFO:tensorflow:DWConv: single-path-search/single_path_super_net/mnas_blocks_15/Relu_1:0 shape: (64, 4, 1, 576)\nINFO:tensorflow:Project: single-path-search/single_path_super_net/mnas_blocks_15/Add:0 shape: (64, 4, 1, 96)\nINFO:tensorflow:Block input: single-path-search/single_path_super_net/mnas_blocks_15/Add:0 shape: (64, 4, 1, 96)\nINFO:tensorflow:Expand: single-path-search/single_path_super_net/mnas_blocks_16/Relu:0 shape: (64, 4, 1, 576)\nINFO:tensorflow:DWConv: single-path-search/single_path_super_net/mnas_blocks_16/Relu_1:0 shape: (64, 4, 1, 576)\nINFO:tensorflow:Project: single-path-search/single_path_super_net/mnas_blocks_16/Add:0 shape: (64, 4, 1, 96)\nINFO:tensorflow:Block input: single-path-search/single_path_super_net/mnas_blocks_16/Add:0 shape: (64, 4, 1, 96)\nINFO:tensorflow:Expand: single-path-search/single_path_super_net/mnas_blocks_17/Relu:0 shape: (64, 4, 1, 576)\nINFO:tensorflow:DWConv: single-path-search/single_path_super_net/mnas_blocks_17/Relu_1:0 shape: (64, 2, 1, 576)\nINFO:tensorflow:Project: single-path-search/single_path_super_net/mnas_blocks_17/batch_normalization_2/FusedBatchNorm:0 shape: (64, 2, 1, 192)\nINFO:tensorflow:Block input: single-path-search/single_path_super_net/mnas_blocks_17/batch_normalization_2/FusedBatchNorm:0 shape: (64, 2, 1, 192)\nINFO:tensorflow:Expand: single-path-search/single_path_super_net/mnas_blocks_18/Relu:0 shape: (64, 2, 1, 1152)\nINFO:tensorflow:DWConv: single-path-search/single_path_super_net/mnas_blocks_18/Relu_1:0 shape: (64, 2, 1, 1152)\nINFO:tensorflow:Project: single-path-search/single_path_super_net/mnas_blocks_18/Add:0 shape: (64, 2, 1, 192)\nINFO:tensorflow:Block input: single-path-search/single_path_super_net/mnas_blocks_18/Add:0 shape: (64, 2, 1, 192)\nINFO:tensorflow:Expand: single-path-search/single_path_super_net/mnas_blocks_19/Relu:0 shape: (64, 2, 1, 1152)\nINFO:tensorflow:DWConv: single-path-search/single_path_super_net/mnas_blocks_19/Relu_1:0 shape: (64, 2, 1, 1152)\nINFO:tensorflow:Project: single-path-search/single_path_super_net/mnas_blocks_19/Add:0 shape: (64, 2, 1, 192)\nINFO:tensorflow:Block input: single-path-search/single_path_super_net/mnas_blocks_19/Add:0 shape: (64, 2, 1, 192)\nINFO:tensorflow:Expand: single-path-search/single_path_super_net/mnas_blocks_20/Relu:0 shape: (64, 2, 1, 1152)\nINFO:tensorflow:DWConv: single-path-search/single_path_super_net/mnas_blocks_20/Relu_1:0 shape: (64, 2, 1, 1152)\nINFO:tensorflow:Project: single-path-search/single_path_super_net/mnas_blocks_20/Add:0 shape: (64, 2, 1, 192)\nINFO:tensorflow:Block input: single-path-search/single_path_super_net/mnas_blocks_20/Add:0 shape: (64, 2, 1, 192)\nINFO:tensorflow:Expand: single-path-search/single_path_super_net/mnas_blocks_21/Relu:0 shape: (64, 2, 1, 1152)\nINFO:tensorflow:DWConv: single-path-search/single_path_super_net/mnas_blocks_21/Relu_1:0 shape: (64, 2, 1, 1152)\nINFO:tensorflow:Project: single-path-search/single_path_super_net/mnas_blocks_21/batch_normalization_2/FusedBatchNorm:0 shape: (64, 2, 1, 320)\nINFO:tensorflow:Done calling model_fn.\nINFO:tensorflow:Graph was finalized.\nINFO:tensorflow:Restoring parameters from /Users/roxanefischer/Desktop/models_tiny_imagenet_v2/model.ckpt-10000\nINFO:tensorflow:Running local_init_op.\nINFO:tensorflow:Done running local_init_op.\n{'classes': 141, 'probabilities': array([0.00086296, 0.00797397, 0.00186565, 0.00065839, 0.00149893,\n       0.00029818, 0.00401543, 0.00072119, 0.00285803, 0.00229885,\n       0.01202266, 0.00161193, 0.00050928, 0.00125386, 0.00060274,\n       0.00159179, 0.00091145, 0.0027615 , 0.00213435, 0.00101989,\n       0.00095541, 0.00085883, 0.00294556, 0.00102244, 0.00041906,\n       0.00068877, 0.00047899, 0.00051201, 0.00029624, 0.00032148,\n       0.00128768, 0.00619914, 0.00132212, 0.00149797, 0.00026032,\n       0.00126171, 0.00133369, 0.00062862, 0.00187064, 0.00281214,\n       0.00141279, 0.0087063 , 0.00710993, 0.00250849, 0.00022165,\n       0.00233585, 0.0025607 , 0.00213372, 0.00208074, 0.00051057,\n       0.00093234, 0.00114986, 0.00133026, 0.00047674, 0.00181608,\n       0.00055677, 0.00075355, 0.00041797, 0.00099634, 0.03909941,\n       0.00100116, 0.00510092, 0.00180267, 0.0015974 , 0.01776592,\n       0.01151837, 0.00052077, 0.02713893, 0.00028842, 0.00065572,\n       0.00083703, 0.00885914, 0.00980801, 0.01819229, 0.00086048,\n       0.00047478, 0.00207763, 0.0006639 , 0.01086635, 0.01117413,\n       0.00405716, 0.00088363, 0.00080919, 0.0053896 , 0.00028781,\n       0.0028155 , 0.00511242, 0.00142725, 0.00095897, 0.00076573,\n       0.00769502, 0.00116108, 0.00205585, 0.00688597, 0.00381184,\n       0.02075708, 0.00126495, 0.0005928 , 0.00349726, 0.00078779,\n       0.00052457, 0.00368408, 0.0047753 , 0.00229379, 0.00167239,\n       0.00394079, 0.0026119 , 0.00418147, 0.0036849 , 0.00341033,\n       0.00688034, 0.00065781, 0.00360621, 0.00274671, 0.00121132,\n       0.00103662, 0.00650213, 0.00225268, 0.00381105, 0.00230499,\n       0.00527794, 0.00076381, 0.00240772, 0.00155681, 0.0251115 ,\n       0.01101472, 0.00315824, 0.0037    , 0.02523929, 0.00206885,\n       0.01687073, 0.0076469 , 0.03987119, 0.00076307, 0.00523774,\n       0.02835683, 0.00185702, 0.00901387, 0.02968028, 0.00064929,\n       0.0176368 , 0.19569336, 0.00032031, 0.00563259, 0.00047688,\n       0.00086393, 0.00382231, 0.0006477 , 0.00170729, 0.01108522,\n       0.00247034, 0.0024316 , 0.00480651, 0.00272096, 0.00357654,\n       0.0010555 , 0.00080914, 0.00111562, 0.00122681, 0.00146346,\n       0.00100059, 0.00132693, 0.0007433 , 0.01213735, 0.0003281 ,\n       0.00043013, 0.002121  , 0.00736663, 0.00355762, 0.00452589,\n       0.00108453, 0.00115801, 0.03049384, 0.00119798, 0.00248922,\n       0.00112576, 0.0012387 , 0.00166161, 0.00124473, 0.00386655,\n       0.00242469, 0.00129299, 0.00074523, 0.00080262, 0.00031619,\n       0.00062158, 0.00100932, 0.00124015, 0.0007871 , 0.00115608,\n       0.00143895, 0.0005034 , 0.00124507, 0.00163555, 0.00195831,\n       0.000395  , 0.00269165, 0.0012179 , 0.00331518, 0.00073208],\n      dtype=float32)}\n{'classes': 141, 'probabilities': array([8.54713842e-04, 8.30375589e-03, 1.26611418e-03, 5.16632921e-04,\n       1.43902749e-03, 2.93171441e-04, 3.01794079e-03, 6.56271877e-04,\n       5.04746567e-03, 2.59482581e-03, 1.21703781e-02, 1.30388467e-03,\n       6.03393069e-04, 1.15290738e-03, 7.17094517e-04, 1.85429782e-03,\n       1.20104186e-03, 2.24881596e-03, 2.12784018e-03, 1.07631448e-03,\n       1.63470255e-03, 8.35821847e-04, 2.87455600e-03, 6.06514222e-04,\n       4.06608044e-04, 4.39014839e-04, 4.80458461e-04, 5.03367279e-04,\n       3.11966287e-04, 2.20111877e-04, 1.17523887e-03, 4.74411668e-03,\n       1.10805733e-03, 1.65255286e-03, 2.80313892e-04, 1.53553870e-03,\n       1.89429440e-03, 1.00033346e-03, 1.89409032e-03, 3.81556037e-03,\n       3.12875048e-03, 1.24951685e-02, 1.08457562e-02, 4.25037695e-03,\n       2.76939420e-04, 1.97817967e-03, 1.95163477e-03, 2.98937317e-03,\n       2.18475098e-03, 4.71047621e-04, 9.55246971e-04, 1.02081057e-03,\n       1.39177556e-03, 5.34804771e-04, 1.98637485e-03, 7.68168829e-04,\n       1.10850390e-03, 2.98728002e-04, 1.54354272e-03, 2.70035062e-02,\n       7.69455975e-04, 5.00624254e-03, 1.40151998e-03, 9.94625851e-04,\n       1.58915594e-02, 1.04597919e-02, 3.79354024e-04, 2.27880552e-02,\n       2.72678793e-04, 5.05729869e-04, 1.12976308e-03, 9.18929838e-03,\n       9.21117142e-03, 2.12063175e-02, 7.56810710e-04, 5.08537400e-04,\n       2.16354709e-03, 4.97427711e-04, 8.36153142e-03, 9.96668823e-03,\n       2.78871506e-03, 7.42226490e-04, 4.82290634e-04, 4.23078937e-03,\n       1.62105091e-04, 3.36032640e-03, 5.12919808e-03, 1.34926138e-03,\n       1.39825651e-03, 4.48256556e-04, 5.44120092e-03, 1.16274611e-03,\n       1.68557651e-03, 4.03212989e-03, 3.61727993e-03, 1.59189999e-02,\n       1.26492535e-03, 4.81049647e-04, 3.06232250e-03, 7.99431466e-04,\n       3.57157434e-04, 3.02511873e-03, 6.25485182e-03, 2.05506780e-03,\n       1.40420254e-03, 4.40803310e-03, 2.22252985e-03, 2.80684256e-03,\n       3.30194272e-03, 3.95892421e-03, 7.91151915e-03, 6.30278140e-04,\n       3.15901428e-03, 2.64545926e-03, 1.02874241e-03, 7.60032970e-04,\n       5.74987428e-03, 1.71705952e-03, 4.66921879e-03, 2.08408665e-03,\n       5.64575614e-03, 6.32524490e-04, 4.40300396e-03, 1.06230751e-03,\n       2.15518121e-02, 1.14920298e-02, 2.58334423e-03, 2.86176312e-03,\n       1.66728832e-02, 1.59315427e-03, 1.37646580e-02, 4.17285459e-03,\n       4.01312523e-02, 5.91341872e-04, 3.69819254e-03, 4.47100550e-02,\n       1.74783729e-03, 7.56796263e-03, 2.11997628e-02, 4.53752233e-04,\n       9.66567267e-03, 2.61385351e-01, 2.13316744e-04, 3.78019433e-03,\n       3.47019319e-04, 6.94991089e-04, 3.86105804e-03, 7.20203330e-04,\n       1.29587401e-03, 1.19619044e-02, 2.11951300e-03, 1.76042563e-03,\n       4.33062809e-03, 2.30485946e-03, 2.32003536e-03, 8.70290853e-04,\n       8.24022689e-04, 7.62569718e-04, 1.06635957e-03, 1.65634754e-03,\n       1.07043819e-03, 7.35949783e-04, 8.82756256e-04, 1.27885090e-02,\n       2.40179288e-04, 3.29081871e-04, 1.80897117e-03, 6.78636739e-03,\n       3.87004204e-03, 3.58458050e-03, 8.04882031e-04, 9.71776666e-04,\n       2.34018806e-02, 1.00894237e-03, 1.93812081e-03, 9.72141454e-04,\n       7.58402399e-04, 1.65372586e-03, 1.24931603e-03, 3.71398986e-03,\n       1.24517200e-03, 1.36758573e-03, 4.51213156e-04, 6.33978401e-04,\n       3.48750327e-04, 8.07929435e-04, 1.22985686e-03, 9.12875810e-04,\n       4.74942673e-04, 1.05534866e-03, 8.51771038e-04, 4.88272228e-04,\n       1.17002754e-03, 1.83481770e-03, 1.55398354e-03, 2.55803665e-04,\n       1.59870507e-03, 1.70550088e-03, 2.08039908e-03, 6.76345488e-04],\n      dtype=float32)}\n{'classes': 141, 'probabilities': array([5.82928827e-04, 1.23208808e-02, 1.00269669e-03, 4.55624540e-04,\n       1.36987050e-03, 2.34754276e-04, 3.49346129e-03, 7.24112266e-04,\n       3.57466959e-03, 2.39236839e-03, 2.72219758e-02, 6.91333087e-04,\n       8.75185011e-04, 7.71696854e-04, 1.69433560e-03, 2.69938307e-03,\n       1.69084175e-03, 3.27645265e-03, 2.43207230e-03, 2.29175948e-03,\n       1.28311757e-03, 8.19979934e-04, 1.79802510e-03, 5.44152688e-04,\n       4.10793844e-04, 4.15094837e-04, 4.23078658e-04, 5.58728585e-04,\n       2.50267622e-04, 1.86080506e-04, 9.47498484e-04, 4.59005311e-03,\n       9.09350871e-04, 1.47874991e-03, 3.06165603e-04, 1.36161677e-03,\n       1.96659425e-03, 1.43568800e-03, 2.13895156e-03, 6.57857768e-03,\n       4.11358569e-03, 1.71784256e-02, 1.53932935e-02, 7.06223352e-03,\n       2.24716161e-04, 2.09318404e-03, 3.40449647e-03, 3.13666672e-03,\n       2.28168094e-03, 3.31558957e-04, 1.02696836e-03, 8.05917720e-04,\n       1.08005910e-03, 5.38972497e-04, 3.26692383e-03, 1.06136408e-03,\n       1.22166390e-03, 2.98251543e-04, 2.63736770e-03, 3.06581687e-02,\n       6.26514258e-04, 6.86138403e-03, 1.80108601e-03, 7.55932357e-04,\n       1.15539851e-02, 7.96398334e-03, 4.41931275e-04, 1.59591567e-02,\n       2.98989879e-04, 4.21566685e-04, 1.24639657e-03, 6.09645061e-03,\n       9.22776572e-03, 1.85476355e-02, 9.40204365e-04, 2.94101628e-04,\n       2.79253349e-03, 5.68726624e-04, 7.12298788e-03, 1.19372867e-02,\n       3.02895322e-03, 6.99860277e-04, 4.19521297e-04, 5.40328864e-03,\n       1.08401488e-04, 2.96808849e-03, 3.47363297e-03, 8.38072563e-04,\n       1.56894524e-03, 3.67954315e-04, 6.40261825e-03, 1.15564698e-03,\n       1.31412910e-03, 4.84250113e-03, 2.89065531e-03, 1.79875586e-02,\n       1.05070043e-03, 4.50185180e-04, 3.43880476e-03, 4.79356531e-04,\n       2.58712942e-04, 2.88757496e-03, 1.01989452e-02, 1.72963447e-03,\n       1.31530513e-03, 7.58290943e-03, 2.46018614e-03, 2.68850033e-03,\n       3.73758399e-03, 2.83938530e-03, 5.83924539e-03, 1.01518061e-03,\n       3.29089048e-03, 3.31653981e-03, 1.11301360e-03, 6.38480997e-04,\n       6.99847285e-03, 1.55761256e-03, 8.31825845e-03, 2.51196604e-03,\n       5.99350128e-03, 5.91577846e-04, 2.61029205e-03, 1.05767592e-03,\n       1.87311210e-02, 7.92901777e-03, 2.19092448e-03, 2.77855503e-03,\n       1.30706299e-02, 1.20432372e-03, 1.25610037e-02, 3.33350943e-03,\n       3.03226002e-02, 5.69005730e-04, 4.51843860e-03, 6.35296851e-02,\n       1.45939167e-03, 4.89845593e-03, 1.48422625e-02, 5.73353958e-04,\n       5.98253822e-03, 2.34194919e-01, 1.67181148e-04, 2.92885909e-03,\n       2.88662093e-04, 7.60186114e-04, 4.87798126e-03, 7.60606024e-04,\n       1.37238763e-03, 1.46902008e-02, 1.85593846e-03, 8.06336640e-04,\n       6.10447209e-03, 2.23845732e-03, 3.67967668e-03, 5.87818620e-04,\n       5.22450078e-04, 7.19414733e-04, 1.32098154e-03, 1.68160966e-03,\n       9.17563913e-04, 6.49189693e-04, 8.65572190e-04, 1.15877856e-02,\n       1.95906745e-04, 1.91464685e-04, 1.96913909e-03, 6.11153804e-03,\n       4.22731601e-03, 9.70002916e-03, 5.47163305e-04, 1.04651076e-03,\n       2.17152555e-02, 7.69775477e-04, 1.29257585e-03, 5.95470949e-04,\n       8.52665689e-04, 1.45741878e-03, 1.23114523e-03, 3.75558808e-03,\n       1.49887509e-03, 1.36738538e-03, 4.63992357e-04, 4.37792245e-04,\n       4.16816445e-04, 6.56455406e-04, 1.28904032e-03, 7.68320751e-04,\n       3.29222588e-04, 1.00668694e-03, 6.96928066e-04, 4.11221466e-04,\n       1.11444748e-03, 1.44032948e-03, 1.11523480e-03, 2.35220956e-04,\n       2.89449678e-03, 2.36540311e-03, 2.08992790e-03, 7.56460940e-04],\n      dtype=float32)}\n{'classes': 141, 'probabilities': array([7.6163473e-04, 1.6220938e-02, 1.0764397e-03, 4.1416276e-04,\n       1.1278378e-03, 1.9165754e-04, 3.5502703e-03, 5.4258452e-04,\n       2.4471949e-03, 2.3348946e-03, 3.5254482e-02, 6.8367494e-04,\n       8.6110784e-04, 5.6823634e-04, 1.7321679e-03, 2.4137921e-03,\n       1.6585233e-03, 4.6319962e-03, 2.2401868e-03, 2.6978487e-03,\n       9.0266607e-04, 8.3650049e-04, 1.5362821e-03, 5.9337838e-04,\n       3.9851828e-04, 3.4116331e-04, 3.2159840e-04, 5.4151932e-04,\n       1.6884644e-04, 1.5092503e-04, 7.5978442e-04, 3.3406087e-03,\n       8.5342705e-04, 1.4234170e-03, 2.3446836e-04, 1.1892573e-03,\n       1.5940414e-03, 1.0491726e-03, 2.0560443e-03, 6.6125975e-03,\n       3.4448982e-03, 1.6786583e-02, 1.6551314e-02, 8.0912439e-03,\n       1.8472914e-04, 2.5145251e-03, 3.6788567e-03, 2.2299108e-03,\n       1.9802779e-03, 2.9764895e-04, 8.1623241e-04, 7.1847253e-04,\n       8.9967868e-04, 3.9678483e-04, 4.5541418e-03, 8.4591506e-04,\n       1.2288458e-03, 3.2185751e-04, 2.6955470e-03, 3.9139308e-02,\n       5.8390602e-04, 5.1303171e-03, 1.8246125e-03, 6.2066439e-04,\n       9.6984133e-03, 6.0431333e-03, 4.1410528e-04, 1.3829487e-02,\n       2.6805335e-04, 4.7676341e-04, 9.3639793e-04, 6.1964919e-03,\n       7.8076939e-03, 1.7879315e-02, 7.2219619e-04, 2.4646943e-04,\n       2.9446024e-03, 4.8568335e-04, 6.8820301e-03, 1.3369522e-02,\n       3.2302802e-03, 4.8889802e-04, 4.5225251e-04, 5.8651166e-03,\n       1.0180360e-04, 2.8579070e-03, 3.2527933e-03, 7.2411867e-04,\n       1.5109361e-03, 3.9463642e-04, 7.8505585e-03, 1.0425175e-03,\n       8.8136742e-04, 6.6838898e-03, 2.3830375e-03, 2.4336044e-02,\n       8.9071557e-04, 2.9341603e-04, 2.8569954e-03, 3.3931024e-04,\n       2.1830297e-04, 2.9873159e-03, 1.0467249e-02, 1.3748599e-03,\n       1.4322175e-03, 5.4713073e-03, 2.2663493e-03, 3.7758115e-03,\n       3.7658717e-03, 2.0205432e-03, 5.5721486e-03, 8.5781084e-04,\n       3.7674273e-03, 3.1632064e-03, 1.1262572e-03, 6.2584551e-04,\n       6.8633375e-03, 1.1554881e-03, 1.2499999e-02, 3.2737283e-03,\n       5.8526020e-03, 4.5072247e-04, 1.9077448e-03, 8.8591129e-04,\n       1.8015627e-02, 1.0875515e-02, 1.8196859e-03, 3.1129997e-03,\n       1.1666874e-02, 9.7944052e-04, 9.7302180e-03, 3.8234058e-03,\n       4.0027700e-02, 4.5957029e-04, 4.6456442e-03, 6.8725780e-02,\n       1.0816947e-03, 5.6263315e-03, 1.2758607e-02, 8.9119136e-04,\n       4.6959240e-03, 2.0679207e-01, 1.3840260e-04, 3.1544189e-03,\n       3.5018945e-04, 6.7432580e-04, 5.3018113e-03, 5.8601191e-04,\n       1.2725991e-03, 1.7502859e-02, 1.9744840e-03, 6.6189392e-04,\n       7.0178485e-03, 1.7844280e-03, 5.4685208e-03, 4.8183344e-04,\n       2.7572733e-04, 7.3571864e-04, 9.9031604e-04, 1.4169776e-03,\n       7.1293645e-04, 6.0394115e-04, 6.5538654e-04, 1.1762206e-02,\n       2.3235004e-04, 1.7547260e-04, 1.9020333e-03, 5.0939173e-03,\n       4.6843281e-03, 9.0433424e-03, 6.6537736e-04, 1.6853437e-03,\n       1.8750785e-02, 5.2895030e-04, 1.2108117e-03, 4.5177314e-04,\n       8.0537004e-04, 1.2150587e-03, 1.0489691e-03, 3.8851055e-03,\n       1.4535853e-03, 1.4030935e-03, 4.7837614e-04, 4.0773765e-04,\n       3.7654513e-04, 6.9064723e-04, 1.1886241e-03, 7.5966702e-04,\n       3.1873953e-04, 1.0142102e-03, 8.2443550e-04, 3.6832056e-04,\n       1.0711086e-03, 1.1130037e-03, 1.0161708e-03, 2.5307230e-04,\n       3.0780868e-03, 2.5104494e-03, 2.1195235e-03, 6.5572042e-04],\n      dtype=float32)}\n"
    }
   ],
   "source": [
    "\n",
    "predictions = nas_est.predict(input_fn=imagenet_eval.input_fn,checkpoint_path=ckpt,yield_single_examples=True)\n",
    "c=0\n",
    "for i in predictions:\n",
    "    print(i)\n",
    "    c=c+1\n",
    "    if (c>3):\n",
    "        break"
   ]
  },
  {
   "cell_type": "code",
   "execution_count": 30,
   "metadata": {
    "tags": [
     "outputPrepend"
    ]
   },
   "outputs": [
    {
     "output_type": "stream",
     "name": "stdout",
     "text": ": (64, 4, 1, 480)\nINFO:tensorflow:DWConv: single-path-search/single_path_super_net/mnas_blocks_10/Relu_1:0 shape: (64, 4, 1, 480)\nINFO:tensorflow:Project: single-path-search/single_path_super_net/mnas_blocks_10/Add:0 shape: (64, 4, 1, 80)\nINFO:tensorflow:Block input: single-path-search/single_path_super_net/mnas_blocks_10/Add:0 shape: (64, 4, 1, 80)\nINFO:tensorflow:Expand: single-path-search/single_path_super_net/mnas_blocks_11/Relu:0 shape: (64, 4, 1, 480)\nINFO:tensorflow:DWConv: single-path-search/single_path_super_net/mnas_blocks_11/Relu_1:0 shape: (64, 4, 1, 480)\nINFO:tensorflow:Project: single-path-search/single_path_super_net/mnas_blocks_11/Add:0 shape: (64, 4, 1, 80)\nINFO:tensorflow:Block input: single-path-search/single_path_super_net/mnas_blocks_11/Add:0 shape: (64, 4, 1, 80)\nINFO:tensorflow:Expand: single-path-search/single_path_super_net/mnas_blocks_12/Relu:0 shape: (64, 4, 1, 480)\nINFO:tensorflow:DWConv: single-path-search/single_path_super_net/mnas_blocks_12/Relu_1:0 shape: (64, 4, 1, 480)\nINFO:tensorflow:Project: single-path-search/single_path_super_net/mnas_blocks_12/Add:0 shape: (64, 4, 1, 80)\nINFO:tensorflow:Block input: single-path-search/single_path_super_net/mnas_blocks_12/Add:0 shape: (64, 4, 1, 80)\nINFO:tensorflow:Expand: single-path-search/single_path_super_net/mnas_blocks_13/Relu:0 shape: (64, 4, 1, 480)\nINFO:tensorflow:DWConv: single-path-search/single_path_super_net/mnas_blocks_13/Relu_1:0 shape: (64, 4, 1, 480)\nINFO:tensorflow:Project: single-path-search/single_path_super_net/mnas_blocks_13/batch_normalization_2/FusedBatchNorm:0 shape: (64, 4, 1, 96)\nINFO:tensorflow:Block input: single-path-search/single_path_super_net/mnas_blocks_13/batch_normalization_2/FusedBatchNorm:0 shape: (64, 4, 1, 96)\nINFO:tensorflow:Expand: single-path-search/single_path_super_net/mnas_blocks_14/Relu:0 shape: (64, 4, 1, 576)\nINFO:tensorflow:DWConv: single-path-search/single_path_super_net/mnas_blocks_14/Relu_1:0 shape: (64, 4, 1, 576)\nINFO:tensorflow:Project: single-path-search/single_path_super_net/mnas_blocks_14/Add:0 shape: (64, 4, 1, 96)\nINFO:tensorflow:Block input: single-path-search/single_path_super_net/mnas_blocks_14/Add:0 shape: (64, 4, 1, 96)\nINFO:tensorflow:Expand: single-path-search/single_path_super_net/mnas_blocks_15/Relu:0 shape: (64, 4, 1, 576)\nINFO:tensorflow:DWConv: single-path-search/single_path_super_net/mnas_blocks_15/Relu_1:0 shape: (64, 4, 1, 576)\nINFO:tensorflow:Project: single-path-search/single_path_super_net/mnas_blocks_15/Add:0 shape: (64, 4, 1, 96)\nINFO:tensorflow:Block input: single-path-search/single_path_super_net/mnas_blocks_15/Add:0 shape: (64, 4, 1, 96)\nINFO:tensorflow:Expand: single-path-search/single_path_super_net/mnas_blocks_16/Relu:0 shape: (64, 4, 1, 576)\nINFO:tensorflow:DWConv: single-path-search/single_path_super_net/mnas_blocks_16/Relu_1:0 shape: (64, 4, 1, 576)\nINFO:tensorflow:Project: single-path-search/single_path_super_net/mnas_blocks_16/Add:0 shape: (64, 4, 1, 96)\nINFO:tensorflow:Block input: single-path-search/single_path_super_net/mnas_blocks_16/Add:0 shape: (64, 4, 1, 96)\nINFO:tensorflow:Expand: single-path-search/single_path_super_net/mnas_blocks_17/Relu:0 shape: (64, 4, 1, 576)\nINFO:tensorflow:DWConv: single-path-search/single_path_super_net/mnas_blocks_17/Relu_1:0 shape: (64, 2, 1, 576)\nINFO:tensorflow:Project: single-path-search/single_path_super_net/mnas_blocks_17/batch_normalization_2/FusedBatchNorm:0 shape: (64, 2, 1, 192)\nINFO:tensorflow:Block input: single-path-search/single_path_super_net/mnas_blocks_17/batch_normalization_2/FusedBatchNorm:0 shape: (64, 2, 1, 192)\nINFO:tensorflow:Expand: single-path-search/single_path_super_net/mnas_blocks_18/Relu:0 shape: (64, 2, 1, 1152)\nINFO:tensorflow:DWConv: single-path-search/single_path_super_net/mnas_blocks_18/Relu_1:0 shape: (64, 2, 1, 1152)\nINFO:tensorflow:Project: single-path-search/single_path_super_net/mnas_blocks_18/Add:0 shape: (64, 2, 1, 192)\nINFO:tensorflow:Block input: single-path-search/single_path_super_net/mnas_blocks_18/Add:0 shape: (64, 2, 1, 192)\nINFO:tensorflow:Expand: single-path-search/single_path_super_net/mnas_blocks_19/Relu:0 shape: (64, 2, 1, 1152)\nINFO:tensorflow:DWConv: single-path-search/single_path_super_net/mnas_blocks_19/Relu_1:0 shape: (64, 2, 1, 1152)\nINFO:tensorflow:Project: single-path-search/single_path_super_net/mnas_blocks_19/Add:0 shape: (64, 2, 1, 192)\nINFO:tensorflow:Block input: single-path-search/single_path_super_net/mnas_blocks_19/Add:0 shape: (64, 2, 1, 192)\nINFO:tensorflow:Expand: single-path-search/single_path_super_net/mnas_blocks_20/Relu:0 shape: (64, 2, 1, 1152)\nINFO:tensorflow:DWConv: single-path-search/single_path_super_net/mnas_blocks_20/Relu_1:0 shape: (64, 2, 1, 1152)\nINFO:tensorflow:Project: single-path-search/single_path_super_net/mnas_blocks_20/Add:0 shape: (64, 2, 1, 192)\nINFO:tensorflow:Block input: single-path-search/single_path_super_net/mnas_blocks_20/Add:0 shape: (64, 2, 1, 192)\nINFO:tensorflow:Expand: single-path-search/single_path_super_net/mnas_blocks_21/Relu:0 shape: (64, 2, 1, 1152)\nINFO:tensorflow:DWConv: single-path-search/single_path_super_net/mnas_blocks_21/Relu_1:0 shape: (64, 2, 1, 1152)\nINFO:tensorflow:Project: single-path-search/single_path_super_net/mnas_blocks_21/batch_normalization_2/FusedBatchNorm:0 shape: (64, 2, 1, 320)\nINFO:tensorflow:Done calling model_fn.\nINFO:tensorflow:Graph was finalized.\nINFO:tensorflow:Restoring parameters from /Users/roxanefischer/Desktop/models_tiny_imagenet_v2/model.ckpt-10000\nINFO:tensorflow:Running local_init_op.\nINFO:tensorflow:Done running local_init_op.\n{'classes': 59, 'probabilities': array([2.20111891e-04, 6.21380401e-04, 1.65894107e-05, 1.54913396e-05,\n       1.37975067e-05, 1.45058502e-05, 1.55343628e-03, 6.32928204e-05,\n       2.05146105e-04, 2.66212097e-04, 7.59928254e-03, 7.34552086e-05,\n       2.11017414e-05, 2.89958931e-04, 5.23802941e-04, 4.48159117e-04,\n       1.00495096e-03, 3.20559461e-03, 1.33768743e-04, 1.05031140e-04,\n       3.61345301e-05, 1.25022843e-05, 1.15304982e-04, 4.07184889e-05,\n       3.92045877e-05, 3.15749785e-05, 3.05831818e-05, 1.12743282e-05,\n       1.39526674e-05, 2.31932390e-05, 9.37903405e-06, 5.29259210e-04,\n       7.85046068e-05, 8.17779801e-05, 1.17297768e-05, 3.22870947e-05,\n       7.53025641e-04, 5.84401823e-05, 8.69072508e-04, 8.80408508e-04,\n       1.63389996e-04, 1.47625559e-03, 1.16826093e-03, 3.28927243e-04,\n       1.09937873e-05, 1.14944531e-04, 2.08328408e-03, 1.71310545e-04,\n       4.60983545e-04, 3.61297061e-05, 3.54095791e-05, 4.72538741e-05,\n       9.62779086e-05, 8.43219241e-05, 3.36341094e-04, 9.97825264e-05,\n       4.32493071e-05, 2.47625994e-05, 1.32011090e-04, 4.76012468e-01,\n       4.88431797e-05, 5.18020999e-04, 8.18631519e-03, 7.26981525e-05,\n       4.19734890e-04, 4.78269393e-03, 1.48435320e-05, 1.23759301e-03,\n       3.55904667e-05, 3.97635631e-05, 5.15784959e-05, 1.29270979e-04,\n       2.14259824e-04, 6.16202084e-03, 7.31303880e-05, 1.36256076e-05,\n       5.17101726e-04, 1.56632115e-04, 1.50104426e-03, 5.92659647e-03,\n       1.04469468e-03, 5.09349702e-05, 3.03668960e-04, 4.82242648e-03,\n       8.84173824e-06, 5.75339014e-04, 1.30805769e-04, 6.20622304e-05,\n       5.15075109e-04, 4.90186321e-05, 1.38232503e-02, 6.52345334e-05,\n       7.20422831e-05, 3.09206657e-02, 1.49120126e-04, 2.98288325e-03,\n       1.88197533e-04, 8.58127460e-05, 1.01259866e-04, 5.17187254e-05,\n       1.95636621e-05, 2.05598539e-04, 6.12803386e-04, 1.83405413e-04,\n       1.24263810e-04, 5.36340987e-04, 2.20421090e-04, 2.58578832e-04,\n       2.50177603e-04, 4.31851331e-05, 9.35988151e-04, 4.76613559e-06,\n       2.07811799e-02, 2.67670699e-03, 4.15132745e-05, 5.62884306e-05,\n       4.19571437e-03, 1.56111215e-04, 4.10694852e-02, 2.39748610e-04,\n       1.38143136e-04, 1.69828898e-04, 2.53555827e-05, 2.46135169e-05,\n       1.69305038e-03, 3.94349190e-04, 2.80999229e-05, 1.73843495e-04,\n       3.38300713e-03, 6.04907509e-05, 1.97184202e-03, 4.67496284e-04,\n       1.20210545e-02, 7.21530523e-05, 2.47405772e-03, 3.67168360e-03,\n       3.88118169e-05, 1.51630302e-04, 3.51255434e-03, 2.38899356e-05,\n       2.40968214e-03, 3.23847309e-02, 1.52760604e-05, 3.10511590e-04,\n       9.06876012e-05, 6.33713935e-05, 2.54389993e-03, 1.65094229e-04,\n       1.16669937e-04, 2.01372579e-01, 5.56001149e-04, 2.60033557e-04,\n       3.26044741e-04, 1.16479394e-04, 1.72887303e-04, 4.80192330e-06,\n       2.42511542e-05, 2.17002846e-04, 1.49966552e-04, 3.33079486e-04,\n       3.50085575e-05, 1.18037337e-04, 6.74785770e-05, 2.43224483e-03,\n       9.45210832e-06, 8.50612287e-06, 5.71980236e-05, 5.40055917e-04,\n       4.58553986e-04, 5.26543893e-02, 3.47189671e-05, 1.08353612e-04,\n       3.13968887e-03, 1.05858999e-05, 9.74112190e-05, 2.43306597e-04,\n       4.83278738e-04, 1.86935024e-04, 9.32660987e-05, 6.05468813e-04,\n       1.64106395e-03, 9.12834483e-04, 4.13171765e-05, 5.79637235e-05,\n       3.34642937e-05, 4.43052595e-05, 1.69696956e-04, 1.18811122e-05,\n       5.92623983e-05, 3.31994583e-04, 3.02266912e-04, 1.09902707e-04,\n       3.28223541e-05, 5.15918728e-05, 4.01323050e-05, 8.31878424e-06,\n       6.17814716e-04, 1.71617387e-04, 1.39998185e-04, 1.27410303e-05],\n      dtype=float32)}\n{'classes': 59, 'probabilities': array([1.98777692e-04, 7.86464836e-04, 1.89400780e-05, 2.05858851e-05,\n       1.73043136e-05, 2.60126999e-05, 1.20412058e-03, 5.38776731e-05,\n       3.59965488e-04, 2.95042468e-04, 1.06561352e-02, 8.61697117e-05,\n       2.80874610e-05, 2.37642031e-04, 2.23530253e-04, 7.14900205e-04,\n       7.93776999e-04, 2.92424881e-03, 2.44666240e-04, 1.34747446e-04,\n       5.47782365e-05, 1.35328701e-05, 1.36927760e-04, 6.99520024e-05,\n       4.19292119e-05, 3.45433255e-05, 3.28332135e-05, 1.36115132e-05,\n       1.90351275e-05, 2.66925272e-05, 2.68555868e-05, 8.29237513e-04,\n       1.13284048e-04, 1.19263772e-04, 1.62468641e-05, 5.25161850e-05,\n       7.88400124e-04, 1.13802285e-04, 8.14973726e-04, 1.61912432e-03,\n       3.71683447e-04, 2.34816875e-03, 1.53927587e-03, 4.17133037e-04,\n       1.44929190e-05, 1.95693603e-04, 1.24063378e-03, 2.10556143e-04,\n       5.07219404e-04, 3.98430420e-05, 5.31946571e-05, 7.98832771e-05,\n       1.40877150e-04, 9.37879595e-05, 5.93446544e-04, 1.35066759e-04,\n       6.54752948e-05, 1.98200341e-05, 1.25768507e-04, 4.19991732e-01,\n       8.20257992e-05, 9.85326828e-04, 7.48708332e-03, 1.12855741e-04,\n       7.85046373e-04, 1.00302193e-02, 1.31173074e-05, 2.27161986e-03,\n       9.25935165e-05, 4.43800600e-05, 9.54106508e-05, 3.18261853e-04,\n       3.50040296e-04, 2.11221259e-02, 7.73647771e-05, 2.01314069e-05,\n       4.95437125e-04, 2.06619530e-04, 1.93739822e-03, 1.26108769e-02,\n       1.02549221e-03, 7.83497744e-05, 5.70202188e-04, 9.35815368e-03,\n       1.05018353e-05, 4.56233101e-04, 4.73136373e-04, 1.31465320e-04,\n       6.25762215e-04, 5.44612158e-05, 8.16529524e-03, 9.51273687e-05,\n       9.07287540e-05, 3.92038710e-02, 2.37099070e-04, 4.49170358e-03,\n       1.47680446e-04, 1.51967586e-04, 1.44725534e-04, 5.13569212e-05,\n       2.23607312e-05, 4.05804749e-04, 6.51214330e-04, 3.29928880e-04,\n       1.59520743e-04, 1.02421478e-03, 2.77548039e-04, 3.47084977e-04,\n       5.51656063e-04, 1.46681210e-04, 2.52453983e-03, 9.46292039e-06,\n       3.48730013e-02, 2.13753548e-03, 8.60743530e-05, 6.26763504e-05,\n       6.52599195e-03, 2.22713774e-04, 8.79940093e-02, 3.81235732e-04,\n       2.07824633e-04, 2.48662953e-04, 3.68862020e-05, 4.37291128e-05,\n       3.08774761e-03, 1.30859215e-03, 3.25410983e-05, 4.79603506e-04,\n       1.07564330e-02, 6.52544986e-05, 2.35751434e-03, 6.65301399e-04,\n       3.40493061e-02, 1.05985404e-04, 1.22693216e-03, 9.76096373e-03,\n       6.24668974e-05, 3.06646893e-04, 7.31681893e-03, 2.10436792e-05,\n       6.02487661e-03, 4.38847765e-02, 1.46471657e-05, 6.81329984e-04,\n       8.49132557e-05, 8.98359940e-05, 4.73772129e-03, 2.46626441e-04,\n       1.19355936e-04, 7.87450299e-02, 6.31983858e-04, 2.36716456e-04,\n       4.64876241e-04, 2.74287973e-04, 1.59227246e-04, 1.11979998e-05,\n       3.62541941e-05, 3.48516391e-04, 1.20181059e-04, 6.13581331e-04,\n       2.93055255e-05, 1.75698544e-04, 1.04174214e-04, 5.60796214e-03,\n       1.54935678e-05, 9.30089845e-06, 9.16213903e-05, 1.00983703e-03,\n       4.06690990e-04, 5.64870723e-02, 4.63489087e-05, 1.53733854e-04,\n       2.73990072e-03, 1.81967334e-05, 1.41808050e-04, 3.90385365e-04,\n       7.94473686e-04, 1.60404466e-04, 1.15841511e-04, 6.63209648e-04,\n       2.26022210e-03, 1.05329789e-03, 6.48143978e-05, 5.07543373e-05,\n       4.44170691e-05, 3.83895422e-05, 1.33382855e-04, 1.84941528e-05,\n       6.53092211e-05, 2.71791359e-04, 3.51275638e-04, 1.25694409e-04,\n       7.06071587e-05, 7.93207510e-05, 8.02190261e-05, 1.06920861e-05,\n       5.69748867e-04, 1.49161773e-04, 1.37640120e-04, 1.62165070e-05],\n      dtype=float32)}\n{'classes': 59, 'probabilities': array([1.86435151e-04, 8.64648260e-04, 2.69927768e-05, 2.23782681e-05,\n       2.68889271e-05, 2.74515496e-05, 2.16205977e-03, 1.12493079e-04,\n       2.71008787e-04, 4.83323791e-04, 1.59237739e-02, 8.33206141e-05,\n       3.55310440e-05, 3.50873364e-04, 4.20537777e-04, 1.03063509e-03,\n       1.73747609e-03, 3.44507140e-03, 3.42959043e-04, 2.26639735e-04,\n       4.03373924e-05, 1.67121871e-05, 1.10559085e-04, 6.28315975e-05,\n       5.17566114e-05, 4.59216026e-05, 4.08520100e-05, 1.44469250e-05,\n       2.12503528e-05, 3.12195880e-05, 3.50332703e-05, 7.89122190e-04,\n       1.72766697e-04, 1.40137010e-04, 1.32548039e-05, 4.84975135e-05,\n       7.29904044e-04, 1.24616257e-04, 8.29535595e-04, 1.41720509e-03,\n       5.13677020e-04, 2.54682102e-03, 1.72678090e-03, 6.03670662e-04,\n       1.14010691e-05, 1.90446517e-04, 2.77095288e-03, 2.08282683e-04,\n       6.31412491e-04, 3.47407513e-05, 4.14814094e-05, 5.64323127e-05,\n       1.25822131e-04, 8.51536242e-05, 5.65832306e-04, 1.43213809e-04,\n       8.10051788e-05, 2.34707495e-05, 1.52420282e-04, 4.14932847e-01,\n       7.71088162e-05, 7.29984429e-04, 9.04028956e-03, 7.92822539e-05,\n       6.19555125e-04, 4.66652773e-03, 1.41136616e-05, 1.40173978e-03,\n       7.31164982e-05, 5.72742647e-05, 1.06918065e-04, 2.71768047e-04,\n       2.25657248e-04, 9.76254884e-03, 8.10549391e-05, 1.48541640e-05,\n       3.54925898e-04, 1.93181346e-04, 1.83746440e-03, 1.23144360e-02,\n       1.04154600e-03, 7.76738743e-05, 3.19459068e-04, 5.46832941e-03,\n       7.91922139e-06, 6.66427659e-04, 2.50947836e-04, 7.62173731e-05,\n       7.57973583e-04, 4.78096008e-05, 8.02041311e-03, 1.01521015e-04,\n       9.64839637e-05, 2.14422215e-02, 2.52826576e-04, 3.52402567e-03,\n       2.33866725e-04, 1.23042686e-04, 1.43579149e-04, 5.82564280e-05,\n       2.03088330e-05, 2.39166475e-04, 8.98734841e-04, 2.63622118e-04,\n       1.76810965e-04, 1.24339364e-03, 2.29735509e-04, 3.03257228e-04,\n       4.94565407e-04, 8.65791881e-05, 1.24687527e-03, 8.60100590e-06,\n       2.29707696e-02, 2.19962024e-03, 7.09911401e-05, 8.05697928e-05,\n       6.30949577e-03, 1.41101293e-04, 5.92589229e-02, 3.33839329e-04,\n       2.03594755e-04, 1.52682158e-04, 3.10108335e-05, 5.54458857e-05,\n       3.46379681e-03, 6.84340543e-04, 3.51673661e-05, 3.11672164e-04,\n       5.93070593e-03, 7.84604345e-05, 2.15584598e-03, 5.27688884e-04,\n       2.02320684e-02, 8.87237766e-05, 2.49882974e-03, 5.59644308e-03,\n       7.14162234e-05, 1.93703236e-04, 5.46774035e-03, 1.91146773e-05,\n       2.63127545e-03, 4.44257557e-02, 1.70213716e-05, 4.94602195e-04,\n       1.23889869e-04, 7.52199412e-05, 3.10459733e-03, 1.79263370e-04,\n       1.50587075e-04, 1.69126630e-01, 5.94071636e-04, 2.66224524e-04,\n       4.91857587e-04, 2.32144477e-04, 2.25807613e-04, 8.14418581e-06,\n       3.96128016e-05, 3.46521410e-04, 9.91793131e-05, 5.73523750e-04,\n       2.68805688e-05, 1.41486686e-04, 1.29518885e-04, 4.27985005e-03,\n       1.09387965e-05, 9.72408361e-06, 5.24442657e-05, 6.98926568e-04,\n       4.61882708e-04, 7.25601688e-02, 5.59059117e-05, 1.07920256e-04,\n       3.01525509e-03, 1.87391579e-05, 1.30487912e-04, 3.96340969e-04,\n       5.88693540e-04, 1.78872884e-04, 1.08816173e-04, 5.19681023e-04,\n       2.40412098e-03, 1.25895347e-03, 4.73967521e-05, 6.02842774e-05,\n       4.41056400e-05, 5.78587824e-05, 1.74938294e-04, 1.63452078e-05,\n       8.79001818e-05, 2.52808590e-04, 3.51672672e-04, 1.31442241e-04,\n       5.65132577e-05, 6.00697022e-05, 8.06247554e-05, 1.43397483e-05,\n       7.96053908e-04, 2.04909767e-04, 2.10299375e-04, 2.09003356e-05],\n      dtype=float32)}\n{'classes': 59, 'probabilities': array([2.17094319e-04, 7.53633678e-04, 3.56615383e-05, 3.22067317e-05,\n       4.56569760e-05, 3.34203723e-05, 2.55392911e-03, 1.16655407e-04,\n       3.52568604e-04, 5.69190830e-04, 1.01034474e-02, 1.53011293e-04,\n       4.12718800e-05, 4.30395419e-04, 4.50078544e-04, 8.89140647e-04,\n       1.10128790e-03, 2.16715247e-03, 2.44421011e-04, 1.43244673e-04,\n       7.11492612e-05, 3.35100849e-05, 1.95820088e-04, 8.90097217e-05,\n       7.01790559e-05, 5.13292107e-05, 5.73592661e-05, 1.83613120e-05,\n       3.08531889e-05, 4.70443301e-05, 3.78181612e-05, 9.91325127e-04,\n       2.34816078e-04, 1.90448511e-04, 1.84656383e-05, 7.01209210e-05,\n       1.01028115e-03, 1.25924285e-04, 8.47837538e-04, 9.60929669e-04,\n       4.62999393e-04, 2.44170101e-03, 1.87580928e-03, 5.34155406e-04,\n       1.73134431e-05, 1.61296412e-04, 2.57757073e-03, 3.77597462e-04,\n       8.62023444e-04, 6.48273781e-05, 5.89156043e-05, 8.69935975e-05,\n       1.52071676e-04, 1.47567669e-04, 6.01813139e-04, 2.30391743e-04,\n       9.45288630e-05, 2.47010357e-05, 2.02411000e-04, 2.94179261e-01,\n       1.13437185e-04, 7.81905605e-04, 1.04738381e-02, 1.08499087e-04,\n       8.79520492e-04, 8.21342971e-03, 1.85381050e-05, 1.23766123e-03,\n       7.36037837e-05, 6.16866964e-05, 9.80294426e-05, 3.20722698e-04,\n       2.99208681e-04, 7.76415505e-03, 8.89890143e-05, 2.40265636e-05,\n       4.99483140e-04, 2.57696258e-04, 3.82595765e-03, 7.74894981e-03,\n       1.01684337e-03, 8.14920859e-05, 3.88215703e-04, 5.73055353e-03,\n       1.33203821e-05, 1.20071089e-03, 3.81959573e-04, 1.08738059e-04,\n       7.23359641e-04, 5.88240910e-05, 1.60154421e-02, 9.14673874e-05,\n       2.01375224e-04, 1.55233871e-02, 2.55605730e-04, 3.36023956e-03,\n       3.38587881e-04, 2.05212404e-04, 2.04010968e-04, 8.68746210e-05,\n       3.42028652e-05, 2.58891552e-04, 1.06353755e-03, 3.75960401e-04,\n       1.42032921e-04, 1.33452157e-03, 3.70844151e-04, 3.39978229e-04,\n       5.82324108e-04, 9.72945927e-05, 2.02415232e-03, 1.51840895e-05,\n       1.77865867e-02, 2.84027797e-03, 6.73113900e-05, 9.60410107e-05,\n       5.11983363e-03, 2.50155019e-04, 2.93656215e-02, 3.80243728e-04,\n       3.10737843e-04, 2.73376179e-04, 4.10371758e-05, 9.11459938e-05,\n       3.52909393e-03, 6.22601074e-04, 4.80632334e-05, 3.45194974e-04,\n       8.41495208e-03, 1.30727800e-04, 3.19762505e-03, 6.83449558e-04,\n       1.54982582e-02, 9.56682270e-05, 3.83665971e-03, 4.51403810e-03,\n       8.70644799e-05, 2.15127104e-04, 5.90379676e-03, 2.34844083e-05,\n       4.80121095e-03, 1.11438550e-01, 2.83483841e-05, 5.84273308e-04,\n       1.83816970e-04, 1.16195399e-04, 4.10926715e-03, 2.24408228e-04,\n       2.01325005e-04, 2.79742658e-01, 6.34081778e-04, 7.38886534e-04,\n       6.24762557e-04, 2.33590879e-04, 3.18899722e-04, 1.40924913e-05,\n       8.20881687e-05, 4.10491339e-04, 1.73233537e-04, 5.07705321e-04,\n       5.55921761e-05, 2.04310418e-04, 1.31760477e-04, 4.58548684e-03,\n       1.32810583e-05, 1.42656017e-05, 6.50372385e-05, 1.32960081e-03,\n       5.82780805e-04, 4.55020815e-02, 5.96596183e-05, 1.34263144e-04,\n       3.32529237e-03, 2.05246834e-05, 1.38056916e-04, 5.24510222e-04,\n       6.25545625e-04, 2.11221035e-04, 1.21835677e-04, 8.60757951e-04,\n       2.12302082e-03, 1.24898960e-03, 6.34999451e-05, 7.40313044e-05,\n       4.90925449e-05, 6.20623978e-05, 2.04584750e-04, 2.10591570e-05,\n       1.19446864e-04, 2.62360438e-04, 3.60841601e-04, 1.15820127e-04,\n       6.77105709e-05, 8.58803542e-05, 9.96663875e-05, 1.48301860e-05,\n       7.56966940e-04, 3.21493339e-04, 2.22442410e-04, 2.96593407e-05],\n      dtype=float32)}\n"
    }
   ],
   "source": [
    "\n",
    "predictions = nas_est.predict(input_fn=imagenet_train.input_fn,checkpoint_path=ckpt,yield_single_examples=True)\n",
    "c=0\n",
    "for i in predictions:\n",
    "    print(i)\n",
    "    c=c+1\n",
    "    if (c>3):\n",
    "        break"
   ]
  },
  {
   "cell_type": "code",
   "execution_count": 37,
   "metadata": {},
   "outputs": [],
   "source": [
    "probabilities = np.array([2.20111891e-04, 6.21380401e-04, 1.65894107e-05, 1.54913396e-05,\n",
    "       1.37975067e-05, 1.45058502e-05, 1.55343628e-03, 6.32928204e-05,\n",
    "       2.05146105e-04, 2.66212097e-04, 7.59928254e-03, 7.34552086e-05,\n",
    "       2.11017414e-05, 2.89958931e-04, 5.23802941e-04, 4.48159117e-04,\n",
    "       1.00495096e-03, 3.20559461e-03, 1.33768743e-04, 1.05031140e-04,\n",
    "       3.61345301e-05, 1.25022843e-05, 1.15304982e-04, 4.07184889e-05,\n",
    "       3.92045877e-05, 3.15749785e-05, 3.05831818e-05, 1.12743282e-05,\n",
    "       1.39526674e-05, 2.31932390e-05, 9.37903405e-06, 5.29259210e-04,\n",
    "       7.85046068e-05, 8.17779801e-05, 1.17297768e-05, 3.22870947e-05,\n",
    "       7.53025641e-04, 5.84401823e-05, 8.69072508e-04, 8.80408508e-04,\n",
    "       1.63389996e-04, 1.47625559e-03, 1.16826093e-03, 3.28927243e-04,\n",
    "       1.09937873e-05, 1.14944531e-04, 2.08328408e-03, 1.71310545e-04,\n",
    "       4.60983545e-04, 3.61297061e-05, 3.54095791e-05, 4.72538741e-05,\n",
    "       9.62779086e-05, 8.43219241e-05, 3.36341094e-04, 9.97825264e-05,\n",
    "       4.32493071e-05, 2.47625994e-05, 1.32011090e-04, 4.76012468e-01,\n",
    "       4.88431797e-05, 5.18020999e-04, 8.18631519e-03, 7.26981525e-05,\n",
    "       4.19734890e-04, 4.78269393e-03, 1.48435320e-05, 1.23759301e-03,\n",
    "       3.55904667e-05, 3.97635631e-05, 5.15784959e-05, 1.29270979e-04,\n",
    "       2.14259824e-04, 6.16202084e-03, 7.31303880e-05, 1.36256076e-05,\n",
    "       5.17101726e-04, 1.56632115e-04, 1.50104426e-03, 5.92659647e-03,\n",
    "       1.04469468e-03, 5.09349702e-05, 3.03668960e-04, 4.82242648e-03,\n",
    "       8.84173824e-06, 5.75339014e-04, 1.30805769e-04, 6.20622304e-05,\n",
    "       5.15075109e-04, 4.90186321e-05, 1.38232503e-02, 6.52345334e-05,\n",
    "       7.20422831e-05, 3.09206657e-02, 1.49120126e-04, 2.98288325e-03,\n",
    "       1.88197533e-04, 8.58127460e-05, 1.01259866e-04, 5.17187254e-05,\n",
    "       1.95636621e-05, 2.05598539e-04, 6.12803386e-04, 1.83405413e-04,\n",
    "       1.24263810e-04, 5.36340987e-04, 2.20421090e-04, 2.58578832e-04,\n",
    "       2.50177603e-04, 4.31851331e-05, 9.35988151e-04, 4.76613559e-06,\n",
    "       2.07811799e-02, 2.67670699e-03, 4.15132745e-05, 5.62884306e-05,\n",
    "       4.19571437e-03, 1.56111215e-04, 4.10694852e-02, 2.39748610e-04,\n",
    "       1.38143136e-04, 1.69828898e-04, 2.53555827e-05, 2.46135169e-05,\n",
    "       1.69305038e-03, 3.94349190e-04, 2.80999229e-05, 1.73843495e-04,\n",
    "       3.38300713e-03, 6.04907509e-05, 1.97184202e-03, 4.67496284e-04,\n",
    "       1.20210545e-02, 7.21530523e-05, 2.47405772e-03, 3.67168360e-03,\n",
    "       3.88118169e-05, 1.51630302e-04, 3.51255434e-03, 2.38899356e-05,\n",
    "       2.40968214e-03, 3.23847309e-02, 1.52760604e-05, 3.10511590e-04,\n",
    "       9.06876012e-05, 6.33713935e-05, 2.54389993e-03, 1.65094229e-04,\n",
    "       1.16669937e-04, 2.01372579e-01, 5.56001149e-04, 2.60033557e-04,\n",
    "       3.26044741e-04, 1.16479394e-04, 1.72887303e-04, 4.80192330e-06,\n",
    "       2.42511542e-05, 2.17002846e-04, 1.49966552e-04, 3.33079486e-04,\n",
    "       3.50085575e-05, 1.18037337e-04, 6.74785770e-05, 2.43224483e-03,\n",
    "       9.45210832e-06, 8.50612287e-06, 5.71980236e-05, 5.40055917e-04,\n",
    "       4.58553986e-04, 5.26543893e-02, 3.47189671e-05, 1.08353612e-04,\n",
    "       3.13968887e-03, 1.05858999e-05, 9.74112190e-05, 2.43306597e-04,\n",
    "       4.83278738e-04, 1.86935024e-04, 9.32660987e-05, 6.05468813e-04,\n",
    "       1.64106395e-03, 9.12834483e-04, 4.13171765e-05, 5.79637235e-05,\n",
    "       3.34642937e-05, 4.43052595e-05, 1.69696956e-04, 1.18811122e-05,\n",
    "       5.92623983e-05, 3.31994583e-04, 3.02266912e-04, 1.09902707e-04,\n",
    "       3.28223541e-05, 5.15918728e-05, 4.01323050e-05, 8.31878424e-06,\n",
    "       6.17814716e-04, 1.71617387e-04, 1.39998185e-04, 1.27410303e-05])\n",
    "prob_2=np.array([2.17094319e-04, 7.53633678e-04, 3.56615383e-05, 3.22067317e-05,\n",
    "       4.56569760e-05, 3.34203723e-05, 2.55392911e-03, 1.16655407e-04,\n",
    "       3.52568604e-04, 5.69190830e-04, 1.01034474e-02, 1.53011293e-04,\n",
    "       4.12718800e-05, 4.30395419e-04, 4.50078544e-04, 8.89140647e-04,\n",
    "       1.10128790e-03, 2.16715247e-03, 2.44421011e-04, 1.43244673e-04,\n",
    "       7.11492612e-05, 3.35100849e-05, 1.95820088e-04, 8.90097217e-05,\n",
    "       7.01790559e-05, 5.13292107e-05, 5.73592661e-05, 1.83613120e-05,\n",
    "       3.08531889e-05, 4.70443301e-05, 3.78181612e-05, 9.91325127e-04,\n",
    "       2.34816078e-04, 1.90448511e-04, 1.84656383e-05, 7.01209210e-05,\n",
    "       1.01028115e-03, 1.25924285e-04, 8.47837538e-04, 9.60929669e-04,\n",
    "       4.62999393e-04, 2.44170101e-03, 1.87580928e-03, 5.34155406e-04,\n",
    "       1.73134431e-05, 1.61296412e-04, 2.57757073e-03, 3.77597462e-04,\n",
    "       8.62023444e-04, 6.48273781e-05, 5.89156043e-05, 8.69935975e-05,\n",
    "       1.52071676e-04, 1.47567669e-04, 6.01813139e-04, 2.30391743e-04,\n",
    "       9.45288630e-05, 2.47010357e-05, 2.02411000e-04, 2.94179261e-01,\n",
    "       1.13437185e-04, 7.81905605e-04, 1.04738381e-02, 1.08499087e-04,\n",
    "       8.79520492e-04, 8.21342971e-03, 1.85381050e-05, 1.23766123e-03,\n",
    "       7.36037837e-05, 6.16866964e-05, 9.80294426e-05, 3.20722698e-04,\n",
    "       2.99208681e-04, 7.76415505e-03, 8.89890143e-05, 2.40265636e-05,\n",
    "       4.99483140e-04, 2.57696258e-04, 3.82595765e-03, 7.74894981e-03,\n",
    "       1.01684337e-03, 8.14920859e-05, 3.88215703e-04, 5.73055353e-03,\n",
    "       1.33203821e-05, 1.20071089e-03, 3.81959573e-04, 1.08738059e-04,\n",
    "       7.23359641e-04, 5.88240910e-05, 1.60154421e-02, 9.14673874e-05,\n",
    "       2.01375224e-04, 1.55233871e-02, 2.55605730e-04, 3.36023956e-03,\n",
    "       3.38587881e-04, 2.05212404e-04, 2.04010968e-04, 8.68746210e-05,\n",
    "       3.42028652e-05, 2.58891552e-04, 1.06353755e-03, 3.75960401e-04,\n",
    "       1.42032921e-04, 1.33452157e-03, 3.70844151e-04, 3.39978229e-04,\n",
    "       5.82324108e-04, 9.72945927e-05, 2.02415232e-03, 1.51840895e-05,\n",
    "       1.77865867e-02, 2.84027797e-03, 6.73113900e-05, 9.60410107e-05,\n",
    "       5.11983363e-03, 2.50155019e-04, 2.93656215e-02, 3.80243728e-04,\n",
    "       3.10737843e-04, 2.73376179e-04, 4.10371758e-05, 9.11459938e-05,\n",
    "       3.52909393e-03, 6.22601074e-04, 4.80632334e-05, 3.45194974e-04,\n",
    "       8.41495208e-03, 1.30727800e-04, 3.19762505e-03, 6.83449558e-04,\n",
    "       1.54982582e-02, 9.56682270e-05, 3.83665971e-03, 4.51403810e-03,\n",
    "       8.70644799e-05, 2.15127104e-04, 5.90379676e-03, 2.34844083e-05,\n",
    "       4.80121095e-03, 1.11438550e-01, 2.83483841e-05, 5.84273308e-04,\n",
    "       1.83816970e-04, 1.16195399e-04, 4.10926715e-03, 2.24408228e-04,\n",
    "       2.01325005e-04, 2.79742658e-01, 6.34081778e-04, 7.38886534e-04,\n",
    "       6.24762557e-04, 2.33590879e-04, 3.18899722e-04, 1.40924913e-05,\n",
    "       8.20881687e-05, 4.10491339e-04, 1.73233537e-04, 5.07705321e-04,\n",
    "       5.55921761e-05, 2.04310418e-04, 1.31760477e-04, 4.58548684e-03,\n",
    "       1.32810583e-05, 1.42656017e-05, 6.50372385e-05, 1.32960081e-03,\n",
    "       5.82780805e-04, 4.55020815e-02, 5.96596183e-05, 1.34263144e-04,\n",
    "       3.32529237e-03, 2.05246834e-05, 1.38056916e-04, 5.24510222e-04,\n",
    "       6.25545625e-04, 2.11221035e-04, 1.21835677e-04, 8.60757951e-04,\n",
    "       2.12302082e-03, 1.24898960e-03, 6.34999451e-05, 7.40313044e-05,\n",
    "       4.90925449e-05, 6.20623978e-05, 2.04584750e-04, 2.10591570e-05,\n",
    "       1.19446864e-04, 2.62360438e-04, 3.60841601e-04, 1.15820127e-04,\n",
    "       6.77105709e-05, 8.58803542e-05, 9.96663875e-05, 1.48301860e-05,\n",
    "       7.56966940e-04, 3.21493339e-04, 2.22442410e-04, 2.96593407e-05])\n"
   ]
  },
  {
   "cell_type": "code",
   "execution_count": 35,
   "metadata": {},
   "outputs": [],
   "source": [
    "from operator import itemgetter\n",
    "from heapq import nlargest\n",
    "result = nlargest(50, enumerate(probabilities), itemgetter(1))"
   ]
  },
  {
   "cell_type": "code",
   "execution_count": 36,
   "metadata": {},
   "outputs": [
    {
     "output_type": "execute_result",
     "data": {
      "text/plain": "[(59, 0.476012468),\n (149, 0.201372579),\n (169, 0.0526543893),\n (118, 0.0410694852),\n (141, 0.0323847309),\n (93, 0.0309206657),\n (112, 0.0207811799),\n (90, 0.0138232503),\n (132, 0.0120210545),\n (62, 0.00818631519),\n (10, 0.00759928254),\n (73, 0.00616202084),\n (79, 0.00592659647),\n (83, 0.00482242648),\n (65, 0.00478269393),\n (116, 0.00419571437),\n (135, 0.0036716836),\n (138, 0.00351255434),\n (128, 0.00338300713),\n (17, 0.00320559461),\n (172, 0.00313968887),\n (95, 0.00298288325),\n (113, 0.00267670699),\n (146, 0.00254389993),\n (134, 0.00247405772),\n (163, 0.00243224483),\n (140, 0.00240968214),\n (46, 0.00208328408),\n (130, 0.00197184202),\n (124, 0.00169305038),\n (180, 0.00164106395),\n (6, 0.00155343628),\n (78, 0.00150104426),\n (41, 0.00147625559),\n (67, 0.00123759301),\n (42, 0.00116826093),\n (80, 0.00104469468),\n (16, 0.00100495096),\n (110, 0.000935988151),\n (181, 0.000912834483),\n (39, 0.000880408508),\n (38, 0.000869072508),\n (36, 0.000753025641),\n (1, 0.000621380401),\n (196, 0.000617814716),\n (102, 0.000612803386),\n (179, 0.000605468813),\n (85, 0.000575339014),\n (150, 0.000556001149),\n (167, 0.000540055917)]"
     },
     "metadata": {},
     "execution_count": 36
    }
   ],
   "source": [
    "result"
   ]
  },
  {
   "cell_type": "code",
   "execution_count": 39,
   "metadata": {},
   "outputs": [
    {
     "output_type": "execute_result",
     "data": {
      "text/plain": "[(59, 0.294179261),\n (149, 0.279742658),\n (141, 0.11143855),\n (169, 0.0455020815),\n (118, 0.0293656215),\n (112, 0.0177865867),\n (90, 0.0160154421),\n (93, 0.0155233871),\n (132, 0.0154982582),\n (62, 0.0104738381),\n (10, 0.0101034474),\n (128, 0.00841495208),\n (65, 0.00821342971),\n (73, 0.00776415505),\n (79, 0.00774894981),\n (138, 0.00590379676),\n (83, 0.00573055353),\n (116, 0.00511983363),\n (140, 0.00480121095),\n (163, 0.00458548684),\n (135, 0.0045140381),\n (146, 0.00410926715),\n (134, 0.00383665971),\n (78, 0.00382595765),\n (124, 0.00352909393),\n (95, 0.00336023956),\n (172, 0.00332529237),\n (130, 0.00319762505),\n (113, 0.00284027797),\n (46, 0.00257757073),\n (6, 0.00255392911),\n (41, 0.00244170101),\n (17, 0.00216715247),\n (180, 0.00212302082),\n (110, 0.00202415232),\n (42, 0.00187580928),\n (105, 0.00133452157),\n (167, 0.00132960081),\n (181, 0.0012489896),\n (67, 0.00123766123),\n (85, 0.00120071089),\n (16, 0.0011012879),\n (102, 0.00106353755),\n (80, 0.00101684337),\n (36, 0.00101028115),\n (31, 0.000991325127),\n (39, 0.000960929669),\n (15, 0.000889140647),\n (64, 0.000879520492),\n (48, 0.000862023444)]"
     },
     "metadata": {},
     "execution_count": 39
    }
   ],
   "source": [
    "nlargest(50, enumerate(prob_2), itemgetter(1))"
   ]
  },
  {
   "cell_type": "code",
   "execution_count": null,
   "metadata": {},
   "outputs": [],
   "source": []
  }
 ],
 "metadata": {
  "language_info": {
   "codemirror_mode": {
    "name": "ipython",
    "version": 3
   },
   "file_extension": ".py",
   "mimetype": "text/x-python",
   "name": "python",
   "nbconvert_exporter": "python",
   "pygments_lexer": "ipython3",
   "version": "3.6.10-final"
  },
  "orig_nbformat": 2,
  "kernelspec": {
   "name": "python361064bitnasconda8536d71a91254de48e7a72aa4a595c9c",
   "display_name": "Python 3.6.10 64-bit ('nas': conda)"
  }
 },
 "nbformat": 4,
 "nbformat_minor": 2
}