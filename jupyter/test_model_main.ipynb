{
 "cells": [
  {
   "cell_type": "code",
   "execution_count": 2,
   "metadata": {},
   "outputs": [],
   "source": [
    "from __future__ import absolute_import\n",
    "from __future__ import division\n",
    "from __future__ import print_function\n",
    "\n",
    "import os\n",
    "import time\n",
    "from absl import app\n",
    "from absl import flags\n",
    "import numpy as np\n",
    "import tensorflow as tf\n",
    "\n",
    "\n",
    "from tensorflow.contrib.tpu.python.tpu import async_checkpoint\n",
    "from tensorflow.contrib.training.python.training import evaluation\n",
    "from tensorflow.core.protobuf import rewriter_config_pb2\n",
    "from tensorflow.python.estimator import estimator\n",
    "from tensorflow.python.keras import backend as K\n",
    "\n",
    "\n",
    "import sys\n",
    "sys.path.append('../train-final')\n",
    "import main, imagenet_input\n",
    "from main import final_model_fn\n"
   ]
  },
  {
   "cell_type": "code",
   "execution_count": 3,
   "metadata": {},
   "outputs": [],
   "source": [
    "\n",
    "data_dir = \"/Users/roxanefischer/Documents/cours/3A/Stage_ML/single-path-nas/other/tiny_imagenet/all\"\n",
    "\n",
    "FLAGS = flags.FLAGS\n",
    "FLAGS([\"data_format, input_image_size, num_label_classes, num_eval_images, eval_batch_size, num_train_images, train_batch_size, use_tpu, model_dir, log_step_count_steps, parse_search_dir\"])\n",
    "flags.FLAGS.data_format=\"channels_last\"\n",
    "flags.FLAGS.input_image_size = 64\n",
    "flags.FLAGS.log_step_count_steps = 64\n",
    "flags.FLAGS.num_label_classes =200\n",
    "flags.FLAGS.num_eval_images=9832\n",
    "flags.FLAGS.eval_batch_size=1024\n",
    "flags.FLAGS.num_train_images=100000\n",
    "flags.FLAGS.train_batch_size=1024\n",
    "flags.FLAGS.use_tpu=False\n",
    "flags.FLAGS.parse_search_dir = \"/Users/roxanefischer/Desktop/tiny_imagenet_local/v4_full_l0.1_nw\"\n",
    "#TEST MAIN V1\n",
    "flags.FLAGS.model_dir=\"/Users/roxanefischer/Downloads/final_model\"\n",
    "\n",
    "save_checkpoints_steps=10000000"
   ]
  },
  {
   "cell_type": "code",
   "execution_count": 4,
   "metadata": {},
   "outputs": [
    {
     "output_type": "stream",
     "name": "stdout",
     "text": "INFO:tensorflow:Using config: {'_model_dir': '/Users/roxanefischer/Downloads/final_model', '_tf_random_seed': None, '_save_summary_steps': 100, '_save_checkpoints_steps': 10000000, '_save_checkpoints_secs': None, '_session_config': graph_options {\n  rewrite_options {\n    disable_meta_optimizer: true\n  }\n}\n, '_keep_checkpoint_max': 5, '_keep_checkpoint_every_n_hours': 10000, '_log_step_count_steps': None, '_train_distribute': None, '_device_fn': None, '_protocol': None, '_eval_distribute': None, '_experimental_distribute': None, '_service': None, '_cluster_spec': None, '_task_type': 'worker', '_task_id': 0, '_global_id_in_cluster': 0, '_master': b'', '_evaluation_master': b'', '_is_chief': True, '_num_ps_replicas': 0, '_num_worker_replicas': 1, '_tpu_config': TPUConfig(iterations_per_loop=1251, num_shards=None, num_cores_per_replica=None, per_host_input_for_training=3, tpu_job_name=None, initial_infeed_sleep_secs=None, input_partition_dims=None), '_cluster': <tensorflow.contrib.cluster_resolver.python.training.tpu_cluster_resolver.TPUClusterResolver object at 0x6395df8d0>}\nINFO:tensorflow:_TPUContext: eval_on_tpu True\nWARNING:tensorflow:eval_on_tpu ignored because use_tpu is False.\n"
    }
   ],
   "source": [
    "tpu_cluster_resolver = tf.contrib.cluster_resolver.TPUClusterResolver('',zone=None, project=None)\n",
    "\n",
    "config = tf.contrib.tpu.RunConfig(\n",
    "    cluster=tpu_cluster_resolver,\n",
    "    model_dir=FLAGS.model_dir,\n",
    "    save_checkpoints_steps=save_checkpoints_steps,\n",
    "    log_step_count_steps=FLAGS.log_step_count_steps,\n",
    "    session_config=tf.ConfigProto(\n",
    "        graph_options=tf.GraphOptions(\n",
    "            rewrite_options=rewriter_config_pb2.RewriterConfig(\n",
    "                disable_meta_optimizer=True))),\n",
    "    tpu_config=tf.contrib.tpu.TPUConfig(\n",
    "        iterations_per_loop=FLAGS.iterations_per_loop,\n",
    "        per_host_input_for_training=tf.contrib.tpu.InputPipelineConfig\n",
    "        .PER_HOST_V2))\n",
    "\n",
    "\n",
    "params = dict(steps_per_epoch=FLAGS.num_train_images / FLAGS.train_batch_size)\n",
    "\n",
    "\n",
    "model_est = tf.contrib.tpu.TPUEstimator(\n",
    "    use_tpu=FLAGS.use_tpu,\n",
    "    model_fn=final_model_fn,\n",
    "    config=config,\n",
    "    train_batch_size=FLAGS.train_batch_size,\n",
    "    eval_batch_size=FLAGS.eval_batch_size,\n",
    "    export_to_tpu=FLAGS.export_to_tpu,\n",
    "    params=params)"
   ]
  },
  {
   "cell_type": "code",
   "execution_count": 5,
   "metadata": {},
   "outputs": [],
   "source": [
    "imagenet_train, imagenet_eval = [\n",
    "    imagenet_input.ImageNetInput(\n",
    "        is_training=is_training,\n",
    "        data_dir=data_dir,\n",
    "        transpose_input=True,\n",
    "        cache=True and is_training,\n",
    "        image_size=FLAGS.input_image_size,\n",
    "        num_parallel_calls=64,\n",
    "        use_bfloat16=False) for is_training in [True, False]\n",
    "]"
   ]
  },
  {
   "cell_type": "code",
   "execution_count": 6,
   "metadata": {},
   "outputs": [],
   "source": [
    "eval_steps = FLAGS.num_eval_images // FLAGS.eval_batch_size\n",
    "def eval_results(ckpt =\"/Users/roxanefischer/Desktop/models_tiny_imagenet_v2/model.ckpt-10000\", eval_steps = eval_steps):\n",
    "    eval_results = model_est.evaluate(\n",
    "        input_fn=imagenet_eval.input_fn,\n",
    "        steps=eval_steps,\n",
    "        checkpoint_path=ckpt)\n",
    "    return eval_results\n",
    "\n",
    "train_steps = FLAGS.num_train_images // FLAGS.train_batch_size\n",
    "def train_results(ckpt =\"/Users/roxanefischer/Desktop/models_tiny_imagenet_v2/model.ckpt-10000\", train_steps = train_steps):\n",
    "    train_results = model_est.evaluate(\n",
    "        input_fn=imagenet_train.input_fn,\n",
    "        steps=train_steps,\n",
    "        checkpoint_path=ckpt)\n",
    "    return train_results"
   ]
  },
  {
   "cell_type": "markdown",
   "metadata": {},
   "source": [
    "# Final model (350 epochs) : overfitting :\n",
    "\n",
    "## On train set\n",
    "{'loss': 1.8640844,\n",
    " 'top_1_accuracy': 0.7998047,\n",
    " 'top_5_accuracy': 0.91308594,\n",
    " 'global_step': 35000}\n",
    "\n",
    "## On eval : \n",
    "{'loss': 7.81235,\n",
    " 'top_1_accuracy': 0.0107421875,\n",
    " 'top_5_accuracy': 0.028320312,\n",
    " 'global_step': 35000}"
   ]
  },
  {
   "cell_type": "code",
   "execution_count": null,
   "metadata": {},
   "outputs": [],
   "source": []
  }
 ],
 "metadata": {
  "language_info": {
   "codemirror_mode": {
    "name": "ipython",
    "version": 3
   },
   "file_extension": ".py",
   "mimetype": "text/x-python",
   "name": "python",
   "nbconvert_exporter": "python",
   "pygments_lexer": "ipython3",
   "version": "3.6.10-final"
  },
  "orig_nbformat": 2,
  "kernelspec": {
   "name": "python361064bitnasconda8536d71a91254de48e7a72aa4a595c9c",
   "display_name": "Python 3.6.10 64-bit ('nas': conda)"
  }
 },
 "nbformat": 4,
 "nbformat_minor": 2
}