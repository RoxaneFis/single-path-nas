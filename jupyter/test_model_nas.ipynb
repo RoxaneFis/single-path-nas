{
 "cells": [
  {
   "cell_type": "code",
   "execution_count": 1,
   "metadata": {},
   "outputs": [],
   "source": [
    "from __future__ import absolute_import\n",
    "from __future__ import division\n",
    "from __future__ import print_function\n",
    "\n",
    "import os\n",
    "import time\n",
    "from absl import app\n",
    "from absl import flags\n",
    "import numpy as np\n",
    "import tensorflow as tf\n",
    "\n",
    "\n",
    "from tensorflow.contrib.tpu.python.tpu import async_checkpoint\n",
    "from tensorflow.contrib.training.python.training import evaluation\n",
    "from tensorflow.core.protobuf import rewriter_config_pb2\n",
    "from tensorflow.python.estimator import estimator\n",
    "from tensorflow.python.keras import backend as K\n",
    "\n",
    "from operator import itemgetter\n",
    "from heapq import nlargest\n",
    "\n",
    "import sys\n",
    "sys.path.append('../nas-search')\n",
    "import search_main, imagenet_input\n",
    "from search_main import nas_model_fn\n",
    "\n"
   ]
  },
  {
   "cell_type": "code",
   "execution_count": 2,
   "metadata": {},
   "outputs": [],
   "source": [
    "\n",
    "FLAGS = flags.FLAGS\n",
    "FLAGS([\"data_format, input_image_size, num_label_classes, num_eval_images, eval_batch_size, num_train_images, train_batch_size, use_tpu\"])\n",
    "flags.FLAGS.data_format=\"channels_last\"\n",
    "flags.FLAGS.input_image_size = 64\n",
    "flags.FLAGS.num_label_classes =200\n",
    "#flags.FLAGS.num_label_classes =10\n",
    "flags.FLAGS.num_eval_images=9832\n",
    "flags.FLAGS.eval_batch_size=1024\n",
    "flags.FLAGS.num_train_images=100000\n",
    "flags.FLAGS.train_batch_size=1024\n",
    "flags.FLAGS.use_tpu=False"
   ]
  },
  {
   "cell_type": "markdown",
   "metadata": {},
   "source": [
    "# Hyperparameters"
   ]
  },
  {
   "cell_type": "code",
   "execution_count": 3,
   "metadata": {},
   "outputs": [],
   "source": [
    "model_dir = \"/Users/roxanefischer/Desktop/models_tiny_imagenet_v2\"\n",
    "data_dir = \"/Users/roxanefischer/Documents/cours/3A/Stage_ML/single-path-nas/other/tiny_imagenet/all\"\n",
    "ckpt =\"/Users/roxanefischer/Desktop/models_tiny_imagenet_v2/model.ckpt-10000\"\n",
    "#ckpt=\"/Users/roxanefischer/Desktop/cifar/models/model.ckpt-6\"\n",
    "\n",
    "save_checkpoints_steps=10000\n",
    "log_step_count_steps=64\n",
    "iterations_per_loop=10000\n",
    "num_parallel_calls=64\n",
    "\n",
    "num_train_images=100000\n",
    "train_batch_size=1024\n",
    "\n",
    "num_eval_images=9832\n",
    "eval_batch_size=1024\n",
    "\n",
    "predict_batch_size=3\n",
    "\n",
    "use_tpu=False\n",
    "export_to_tpu=False\n",
    "transpose_input = True\n",
    "use_cache=True\n",
    "\n",
    "#tiny_image_net\n",
    "input_image_size=64"
   ]
  },
  {
   "cell_type": "markdown",
   "metadata": {},
   "source": [
    "# Define NAS Model"
   ]
  },
  {
   "cell_type": "code",
   "execution_count": 4,
   "metadata": {},
   "outputs": [
    {
     "output_type": "stream",
     "name": "stdout",
     "text": "INFO:tensorflow:Using config: {'_model_dir': '/Users/roxanefischer/Desktop/models_tiny_imagenet_v2', '_tf_random_seed': None, '_save_summary_steps': 100, '_save_checkpoints_steps': 10000, '_save_checkpoints_secs': None, '_session_config': graph_options {\n  rewrite_options {\n    disable_meta_optimizer: true\n  }\n}\n, '_keep_checkpoint_max': 5, '_keep_checkpoint_every_n_hours': 10000, '_log_step_count_steps': None, '_train_distribute': None, '_device_fn': None, '_protocol': None, '_eval_distribute': None, '_experimental_distribute': None, '_service': None, '_cluster_spec': None, '_task_type': 'worker', '_task_id': 0, '_global_id_in_cluster': 0, '_master': b'', '_evaluation_master': b'', '_is_chief': True, '_num_ps_replicas': 0, '_num_worker_replicas': 1, '_tpu_config': TPUConfig(iterations_per_loop=10000, num_shards=None, num_cores_per_replica=None, per_host_input_for_training=3, tpu_job_name=None, initial_infeed_sleep_secs=None, input_partition_dims=None), '_cluster': <tensorflow.contrib.cluster_resolver.python.training.tpu_cluster_resolver.TPUClusterResolver object at 0x636fd3c88>}\nINFO:tensorflow:_TPUContext: eval_on_tpu True\nWARNING:tensorflow:eval_on_tpu ignored because use_tpu is False.\n"
    }
   ],
   "source": [
    "  tpu_cluster_resolver = tf.contrib.cluster_resolver.TPUClusterResolver('',zone=None, project=None)\n",
    "  \n",
    "  config = tf.contrib.tpu.RunConfig(\n",
    "      cluster=tpu_cluster_resolver,\n",
    "      model_dir=model_dir,\n",
    "      save_checkpoints_steps=save_checkpoints_steps,\n",
    "      log_step_count_steps=log_step_count_steps,\n",
    "      session_config=tf.ConfigProto(\n",
    "          graph_options=tf.GraphOptions(\n",
    "              rewrite_options=rewriter_config_pb2.RewriterConfig(\n",
    "                  disable_meta_optimizer=True))),\n",
    "      tpu_config=tf.contrib.tpu.TPUConfig(\n",
    "          iterations_per_loop=iterations_per_loop,\n",
    "          per_host_input_for_training=tf.contrib.tpu.InputPipelineConfig\n",
    "          .PER_HOST_V2))  # pylint: disable=line-too-long\n",
    "  # Initializes model parameters.\n",
    "  params = dict(steps_per_epoch=num_train_images / train_batch_size)\n",
    "  nas_est = tf.contrib.tpu.TPUEstimator(\n",
    "      use_tpu=use_tpu,\n",
    "      model_fn=nas_model_fn,\n",
    "      config=config,\n",
    "      train_batch_size=train_batch_size,\n",
    "      eval_batch_size=eval_batch_size,\n",
    "      predict_batch_size=predict_batch_size,\n",
    "      export_to_tpu=export_to_tpu,\n",
    "      params=params)"
   ]
  },
  {
   "cell_type": "markdown",
   "metadata": {},
   "source": [
    "# Load datasets"
   ]
  },
  {
   "cell_type": "code",
   "execution_count": 5,
   "metadata": {},
   "outputs": [],
   "source": [
    "imagenet_train, imagenet_eval = [\n",
    "    imagenet_input.ImageNetInput(\n",
    "        is_training=is_training,\n",
    "        data_dir=data_dir,\n",
    "        transpose_input=transpose_input,\n",
    "        cache=use_cache and is_training,\n",
    "        image_size=input_image_size,\n",
    "        num_parallel_calls=num_parallel_calls,\n",
    "        use_bfloat16=False) for is_training in [True, False]\n",
    "]"
   ]
  },
  {
   "cell_type": "markdown",
   "metadata": {},
   "source": [
    "# Evaluation on train and test sets"
   ]
  },
  {
   "cell_type": "code",
   "execution_count": 6,
   "metadata": {},
   "outputs": [],
   "source": [
    "eval_steps = num_eval_images // eval_batch_size\n",
    "def eval_results(ckpt =\"/Users/roxanefischer/Desktop/models_tiny_imagenet_v2/model.ckpt-10000\", eval_steps = eval_steps):\n",
    "    eval_results = nas_est.evaluate(\n",
    "        input_fn=imagenet_eval.input_fn,\n",
    "        steps=eval_steps,\n",
    "        checkpoint_path=ckpt)\n",
    "    return eval_results\n",
    "\n",
    "train_steps = num_train_images // train_batch_size\n",
    "def train_results(ckpt =\"/Users/roxanefischer/Desktop/models_tiny_imagenet_v2/model.ckpt-10000\", train_steps = train_steps):\n",
    "    train_results = nas_est.evaluate(\n",
    "        input_fn=imagenet_train.input_fn,\n",
    "        steps=train_steps,\n",
    "        checkpoint_path=ckpt)\n",
    "    return train_results"
   ]
  },
  {
   "cell_type": "markdown",
   "metadata": {},
   "source": [
    "# Accuracies (Useless : not well trained)"
   ]
  },
  {
   "cell_type": "markdown",
   "metadata": {},
   "source": [
    "## NAS Search"
   ]
  },
  {
   "cell_type": "markdown",
   "metadata": {},
   "source": [
    "## Checkpoint 10000 on TinyImagenet\n",
    "\n",
    "### Eval results\n",
    "\n",
    "{ALL global_step = 10000, loss = 407.13586, **top_1_accuracy = 0.006184896, top_5_accuracy = 0.024631076**}\n",
    "\n",
    "### Train results \n",
    "\n",
    "{ALL global_step = 10000, loss = 403.2064, **top_1_accuracy = 0.35014296, top_5_accuracy = 0.60899246**}\n"
   ]
  },
  {
   "cell_type": "markdown",
   "metadata": {},
   "source": [
    "## Checkpoint 785 on TinyImagenet\n",
    "\n",
    "### Eval results\n",
    "\n",
    "{1  : global_step = 785, loss = 498.46667, **top_1_accuracy = 0.0048828125, top_5_accuracy = 0.0234375**}\n",
    "\n",
    "{All :global_step = 785, loss = 498.53845, **top_1_accuracy = 0.0046657985, top_5_accuracy = 0.025282118**}\n",
    "\n",
    "### Train results \n",
    "\n",
    "{1 : global_step = 785, loss = 496.75244, **top_1_accuracy = 0.022460938, top_5_accuracy = 0.064453125**}\n",
    "\n",
    "{All : global_step = 785, loss = 496.75757, top_1_accuracy = 0.017386839, top_5_accuracy = 0.055271424}\n",
    "\n"
   ]
  },
  {
   "cell_type": "markdown",
   "metadata": {},
   "source": [
    "### 1 eval_step on eval_dataset model ckpt = 785\n",
    "{'loss': 498.56723,\n",
    " 'top_1_accuracy': 0.005859375,\n",
    " 'top_5_accuracy': 0.025390625,\n",
    " 'global_step': 785}\n",
    "\n",
    " {'loss': 498.4192,\n",
    " 'top_1_accuracy': 0.0068359375,\n",
    " 'top_5_accuracy': 0.025390625,\n",
    " 'global_step': 785}\n",
    "\n",
    "{'loss': 498.5098,\n",
    " 'top_1_accuracy': 0.0029296875,\n",
    " 'top_5_accuracy': 0.02734375,\n",
    " 'global_step': 785}\n",
    "\n",
    "{'loss': 498.39905,\n",
    " 'top_1_accuracy': 0.005859375,\n",
    " 'top_5_accuracy': 0.024414062,\n",
    " 'global_step': 785}\n",
    "\n",
    " "
   ]
  },
  {
   "cell_type": "markdown",
   "metadata": {},
   "source": [
    "# Predict (Useless : not well trained)"
   ]
  },
  {
   "cell_type": "code",
   "execution_count": 7,
   "metadata": {
    "tags": [
     "outputPrepend"
    ]
   },
   "outputs": [
    {
     "output_type": "stream",
     "name": "stdout",
     "text": "64, 4, 1, 480)\nINFO:tensorflow:DWConv: single-path-search/single_path_super_net/mnas_blocks_10/Relu_1:0 shape: (64, 4, 1, 480)\nINFO:tensorflow:Project: single-path-search/single_path_super_net/mnas_blocks_10/Add:0 shape: (64, 4, 1, 80)\nINFO:tensorflow:Block input: single-path-search/single_path_super_net/mnas_blocks_10/Add:0 shape: (64, 4, 1, 80)\nINFO:tensorflow:Expand: single-path-search/single_path_super_net/mnas_blocks_11/Relu:0 shape: (64, 4, 1, 480)\nINFO:tensorflow:DWConv: single-path-search/single_path_super_net/mnas_blocks_11/Relu_1:0 shape: (64, 4, 1, 480)\nINFO:tensorflow:Project: single-path-search/single_path_super_net/mnas_blocks_11/Add:0 shape: (64, 4, 1, 80)\nINFO:tensorflow:Block input: single-path-search/single_path_super_net/mnas_blocks_11/Add:0 shape: (64, 4, 1, 80)\nINFO:tensorflow:Expand: single-path-search/single_path_super_net/mnas_blocks_12/Relu:0 shape: (64, 4, 1, 480)\nINFO:tensorflow:DWConv: single-path-search/single_path_super_net/mnas_blocks_12/Relu_1:0 shape: (64, 4, 1, 480)\nINFO:tensorflow:Project: single-path-search/single_path_super_net/mnas_blocks_12/Add:0 shape: (64, 4, 1, 80)\nINFO:tensorflow:Block input: single-path-search/single_path_super_net/mnas_blocks_12/Add:0 shape: (64, 4, 1, 80)\nINFO:tensorflow:Expand: single-path-search/single_path_super_net/mnas_blocks_13/Relu:0 shape: (64, 4, 1, 480)\nINFO:tensorflow:DWConv: single-path-search/single_path_super_net/mnas_blocks_13/Relu_1:0 shape: (64, 4, 1, 480)\nINFO:tensorflow:Project: single-path-search/single_path_super_net/mnas_blocks_13/batch_normalization_2/FusedBatchNorm:0 shape: (64, 4, 1, 96)\nINFO:tensorflow:Block input: single-path-search/single_path_super_net/mnas_blocks_13/batch_normalization_2/FusedBatchNorm:0 shape: (64, 4, 1, 96)\nINFO:tensorflow:Expand: single-path-search/single_path_super_net/mnas_blocks_14/Relu:0 shape: (64, 4, 1, 576)\nINFO:tensorflow:DWConv: single-path-search/single_path_super_net/mnas_blocks_14/Relu_1:0 shape: (64, 4, 1, 576)\nINFO:tensorflow:Project: single-path-search/single_path_super_net/mnas_blocks_14/Add:0 shape: (64, 4, 1, 96)\nINFO:tensorflow:Block input: single-path-search/single_path_super_net/mnas_blocks_14/Add:0 shape: (64, 4, 1, 96)\nINFO:tensorflow:Expand: single-path-search/single_path_super_net/mnas_blocks_15/Relu:0 shape: (64, 4, 1, 576)\nINFO:tensorflow:DWConv: single-path-search/single_path_super_net/mnas_blocks_15/Relu_1:0 shape: (64, 4, 1, 576)\nINFO:tensorflow:Project: single-path-search/single_path_super_net/mnas_blocks_15/Add:0 shape: (64, 4, 1, 96)\nINFO:tensorflow:Block input: single-path-search/single_path_super_net/mnas_blocks_15/Add:0 shape: (64, 4, 1, 96)\nINFO:tensorflow:Expand: single-path-search/single_path_super_net/mnas_blocks_16/Relu:0 shape: (64, 4, 1, 576)\nINFO:tensorflow:DWConv: single-path-search/single_path_super_net/mnas_blocks_16/Relu_1:0 shape: (64, 4, 1, 576)\nINFO:tensorflow:Project: single-path-search/single_path_super_net/mnas_blocks_16/Add:0 shape: (64, 4, 1, 96)\nINFO:tensorflow:Block input: single-path-search/single_path_super_net/mnas_blocks_16/Add:0 shape: (64, 4, 1, 96)\nINFO:tensorflow:Expand: single-path-search/single_path_super_net/mnas_blocks_17/Relu:0 shape: (64, 4, 1, 576)\nINFO:tensorflow:DWConv: single-path-search/single_path_super_net/mnas_blocks_17/Relu_1:0 shape: (64, 2, 1, 576)\nINFO:tensorflow:Project: single-path-search/single_path_super_net/mnas_blocks_17/batch_normalization_2/FusedBatchNorm:0 shape: (64, 2, 1, 192)\nINFO:tensorflow:Block input: single-path-search/single_path_super_net/mnas_blocks_17/batch_normalization_2/FusedBatchNorm:0 shape: (64, 2, 1, 192)\nINFO:tensorflow:Expand: single-path-search/single_path_super_net/mnas_blocks_18/Relu:0 shape: (64, 2, 1, 1152)\nINFO:tensorflow:DWConv: single-path-search/single_path_super_net/mnas_blocks_18/Relu_1:0 shape: (64, 2, 1, 1152)\nINFO:tensorflow:Project: single-path-search/single_path_super_net/mnas_blocks_18/Add:0 shape: (64, 2, 1, 192)\nINFO:tensorflow:Block input: single-path-search/single_path_super_net/mnas_blocks_18/Add:0 shape: (64, 2, 1, 192)\nINFO:tensorflow:Expand: single-path-search/single_path_super_net/mnas_blocks_19/Relu:0 shape: (64, 2, 1, 1152)\nINFO:tensorflow:DWConv: single-path-search/single_path_super_net/mnas_blocks_19/Relu_1:0 shape: (64, 2, 1, 1152)\nINFO:tensorflow:Project: single-path-search/single_path_super_net/mnas_blocks_19/Add:0 shape: (64, 2, 1, 192)\nINFO:tensorflow:Block input: single-path-search/single_path_super_net/mnas_blocks_19/Add:0 shape: (64, 2, 1, 192)\nINFO:tensorflow:Expand: single-path-search/single_path_super_net/mnas_blocks_20/Relu:0 shape: (64, 2, 1, 1152)\nINFO:tensorflow:DWConv: single-path-search/single_path_super_net/mnas_blocks_20/Relu_1:0 shape: (64, 2, 1, 1152)\nINFO:tensorflow:Project: single-path-search/single_path_super_net/mnas_blocks_20/Add:0 shape: (64, 2, 1, 192)\nINFO:tensorflow:Block input: single-path-search/single_path_super_net/mnas_blocks_20/Add:0 shape: (64, 2, 1, 192)\nINFO:tensorflow:Expand: single-path-search/single_path_super_net/mnas_blocks_21/Relu:0 shape: (64, 2, 1, 1152)\nINFO:tensorflow:DWConv: single-path-search/single_path_super_net/mnas_blocks_21/Relu_1:0 shape: (64, 2, 1, 1152)\nINFO:tensorflow:Project: single-path-search/single_path_super_net/mnas_blocks_21/batch_normalization_2/FusedBatchNorm:0 shape: (64, 2, 1, 320)\nINFO:tensorflow:Done calling model_fn.\nINFO:tensorflow:Graph was finalized.\nINFO:tensorflow:Restoring parameters from /Users/roxanefischer/Desktop/models_tiny_imagenet_v2/model.ckpt-10000\nINFO:tensorflow:Running local_init_op.\nINFO:tensorflow:Done running local_init_op.\n{'classes': 141, 'probabilities': array([5.97340928e-04, 1.40425120e-03, 1.43818834e-04, 7.62506097e-05,\n       2.35471147e-04, 6.05265232e-05, 3.63608287e-03, 1.99659829e-04,\n       1.10841927e-03, 1.28134899e-03, 9.58446693e-03, 4.37921350e-04,\n       4.71687708e-05, 1.13451690e-03, 5.11472928e-04, 9.84769315e-04,\n       9.30683571e-04, 4.40402841e-03, 7.92491133e-04, 3.23419634e-04,\n       2.07546560e-04, 9.59689714e-05, 4.46763443e-04, 2.39877249e-04,\n       1.31837267e-04, 2.74153048e-04, 1.20333949e-04, 5.10022364e-05,\n       6.83212056e-05, 7.84975637e-05, 1.51188360e-04, 2.85178353e-03,\n       3.69420566e-04, 3.14252218e-04, 5.57631574e-05, 2.00410592e-04,\n       1.02951424e-03, 1.49183703e-04, 1.50265743e-03, 1.53829053e-03,\n       3.46511370e-04, 4.77575650e-03, 1.99084869e-03, 6.43756997e-04,\n       6.22233638e-05, 7.29234773e-04, 2.49657524e-03, 1.16617652e-03,\n       1.03016198e-03, 1.84924866e-04, 1.93623564e-04, 1.92731066e-04,\n       5.97794540e-04, 2.49492208e-04, 4.82510746e-04, 4.16915311e-04,\n       1.59853502e-04, 6.54607575e-05, 3.47970927e-04, 1.88056618e-01,\n       4.03001381e-04, 1.99007615e-03, 2.60159280e-03, 2.21025533e-04,\n       2.16541952e-03, 1.21303396e-02, 6.42299638e-05, 1.03714019e-02,\n       2.02754803e-04, 1.09257278e-04, 3.48298781e-04, 1.52886170e-03,\n       2.53643957e-03, 2.28755809e-02, 2.78356310e-04, 5.81758759e-05,\n       7.15747534e-04, 2.87487666e-04, 7.61587452e-03, 1.06046135e-02,\n       2.80839275e-03, 1.87418322e-04, 3.38310492e-04, 7.05461157e-03,\n       5.35834479e-05, 9.98684787e-04, 2.02536630e-03, 7.60763884e-04,\n       8.47146905e-04, 1.15604787e-04, 8.81689694e-03, 2.58021610e-04,\n       4.75729204e-04, 1.88611411e-02, 6.44363579e-04, 7.42744096e-03,\n       5.51117875e-04, 2.79273489e-04, 8.34803330e-04, 1.91439685e-04,\n       1.12136724e-04, 7.22103869e-04, 4.41438518e-03, 4.27527528e-04,\n       3.73978779e-04, 1.75621919e-03, 8.27013166e-04, 8.68872681e-04,\n       9.21679079e-04, 7.35725916e-04, 6.71017170e-03, 6.15472018e-05,\n       7.16806343e-03, 3.92105477e-03, 1.85440207e-04, 3.98324861e-04,\n       9.89704113e-03, 9.07822570e-04, 1.10594565e-02, 5.75657061e-04,\n       1.35921163e-03, 6.72311755e-04, 1.55265923e-04, 3.03934736e-04,\n       6.22458756e-03, 3.57036525e-03, 2.75738770e-04, 9.56833421e-04,\n       3.09270322e-02, 2.07026853e-04, 1.25257680e-02, 2.03055213e-03,\n       1.89260673e-02, 3.62364313e-04, 1.95415178e-03, 2.20195744e-02,\n       2.71070603e-04, 1.49424258e-03, 1.60694756e-02, 6.60126898e-05,\n       1.16866790e-02, 2.70717978e-01, 5.71802375e-05, 1.90072670e-03,\n       1.96715831e-04, 1.21595695e-04, 5.71980607e-03, 3.07442941e-04,\n       6.09319890e-04, 7.81731978e-02, 1.05877768e-03, 1.24078128e-03,\n       9.32441733e-04, 8.21670867e-04, 7.16849696e-04, 1.47428858e-04,\n       1.92077292e-04, 4.09899279e-04, 2.17009874e-04, 7.92417501e-04,\n       2.06157987e-04, 5.68141229e-04, 3.38451355e-04, 2.28292700e-02,\n       4.68040671e-05, 8.07702818e-05, 5.22772432e-04, 4.92823170e-03,\n       1.92731444e-03, 1.58842076e-02, 1.64264129e-04, 4.59135073e-04,\n       1.04522007e-02, 5.52063939e-05, 3.65856162e-04, 8.02503317e-04,\n       1.36754790e-03, 4.09292086e-04, 3.55223223e-04, 2.41946499e-03,\n       4.79340833e-03, 1.99929532e-03, 3.20658495e-04, 1.53888977e-04,\n       1.53611196e-04, 1.15677074e-04, 6.31155446e-04, 1.44727892e-04,\n       2.48453289e-04, 6.60250022e-04, 7.25548831e-04, 1.73995417e-04,\n       2.89805321e-04, 3.75681586e-04, 4.23265970e-04, 4.72170177e-05,\n       1.52610475e-03, 6.66582142e-04, 1.16122013e-03, 1.72356449e-04],\n      dtype=float32)}\n{'classes': 141, 'probabilities': array([6.34196331e-04, 1.36727002e-03, 1.03173690e-04, 5.48316202e-05,\n       1.32477639e-04, 4.60600422e-05, 3.00348364e-03, 1.25359686e-04,\n       8.43482092e-04, 8.34409264e-04, 7.66287604e-03, 3.50168499e-04,\n       3.57265708e-05, 1.00446632e-03, 6.59740705e-04, 8.19696812e-04,\n       8.65535927e-04, 4.34878794e-03, 4.50914988e-04, 2.44393945e-04,\n       1.41893193e-04, 7.60310431e-05, 3.06276284e-04, 1.89261031e-04,\n       1.07823798e-04, 1.95488872e-04, 9.46010550e-05, 3.35645345e-05,\n       4.22453122e-05, 5.56877640e-05, 7.94318330e-05, 2.30314396e-03,\n       2.42725408e-04, 1.95225250e-04, 4.04730818e-05, 1.39942014e-04,\n       9.30432754e-04, 1.16371273e-04, 1.27832068e-03, 1.12538843e-03,\n       2.36560169e-04, 3.29937367e-03, 1.68376009e-03, 4.65634250e-04,\n       5.03602496e-05, 5.09888574e-04, 2.45667272e-03, 9.78378346e-04,\n       6.02888525e-04, 1.49682310e-04, 1.61262709e-04, 1.69894862e-04,\n       4.81011521e-04, 1.77519381e-04, 3.55284166e-04, 3.17062775e-04,\n       9.04673871e-05, 5.28666060e-05, 2.76327337e-04, 2.32434362e-01,\n       3.87475156e-04, 2.11331667e-03, 2.55005574e-03, 2.36764317e-04,\n       1.68952090e-03, 1.27010942e-02, 4.54975197e-05, 8.45979899e-03,\n       1.63935387e-04, 9.08177026e-05, 2.59121123e-04, 8.09605292e-04,\n       2.22102273e-03, 2.13874523e-02, 2.79459986e-04, 4.56736307e-05,\n       7.19912408e-04, 2.38187364e-04, 6.97872508e-03, 8.97842180e-03,\n       2.59772246e-03, 1.38882388e-04, 3.36956931e-04, 8.45731422e-03,\n       4.05683822e-05, 8.73771845e-04, 1.36384182e-03, 7.47459067e-04,\n       6.94718270e-04, 9.23140979e-05, 8.09267443e-03, 1.67150545e-04,\n       4.22014826e-04, 2.63577104e-02, 5.20954025e-04, 7.20353844e-03,\n       3.66657012e-04, 2.18538509e-04, 5.75738493e-04, 1.34511196e-04,\n       8.26496980e-05, 6.12349599e-04, 3.35111562e-03, 3.42134677e-04,\n       2.89181626e-04, 1.28985639e-03, 6.22189138e-04, 8.14381638e-04,\n       8.51939898e-04, 5.94368321e-04, 6.23183651e-03, 3.71232636e-05,\n       8.45655799e-03, 4.21556877e-03, 1.30428365e-04, 3.01457039e-04,\n       1.18047921e-02, 7.78487010e-04, 1.36298006e-02, 4.58504714e-04,\n       8.35485756e-04, 4.97162750e-04, 1.27749430e-04, 1.84923789e-04,\n       4.89007961e-03, 2.83255754e-03, 1.66142563e-04, 5.94027748e-04,\n       2.46362519e-02, 1.40758217e-04, 9.32924263e-03, 1.77991088e-03,\n       1.95967816e-02, 2.49836245e-04, 1.91370025e-03, 2.09216420e-02,\n       1.92611318e-04, 1.19150768e-03, 1.38737215e-02, 6.53353563e-05,\n       1.00228302e-02, 2.67059863e-01, 3.88558656e-05, 1.33900251e-03,\n       1.31762848e-04, 1.06333362e-04, 6.42506965e-03, 2.53740349e-04,\n       6.30936294e-04, 7.39920288e-02, 8.80133419e-04, 6.36762299e-04,\n       8.12872429e-04, 5.96819213e-04, 5.07056422e-04, 9.82698621e-05,\n       1.40575517e-04, 3.71691393e-04, 2.18658475e-04, 6.44568179e-04,\n       1.85259443e-04, 5.31991653e-04, 1.97247995e-04, 1.94979422e-02,\n       4.02912738e-05, 5.06681281e-05, 4.25979088e-04, 3.67650576e-03,\n       2.11509992e-03, 1.49491346e-02, 1.16437433e-04, 3.47532274e-04,\n       1.06810471e-02, 2.93814301e-05, 2.98340747e-04, 7.03163212e-04,\n       1.25520106e-03, 3.52840201e-04, 2.73705227e-04, 2.17787130e-03,\n       3.73925967e-03, 1.75406644e-03, 2.11998093e-04, 1.40748685e-04,\n       1.04546780e-04, 7.28411324e-05, 4.53080633e-04, 9.09552982e-05,\n       1.41106735e-04, 6.03092660e-04, 5.27675264e-04, 1.52242239e-04,\n       2.39118119e-04, 2.86679860e-04, 2.87861010e-04, 2.56851945e-05,\n       1.75805809e-03, 5.40530658e-04, 1.02348730e-03, 1.29866981e-04],\n      dtype=float32)}\n{'classes': 141, 'probabilities': array([5.29114448e-04, 1.54786243e-03, 8.51648729e-05, 4.52250242e-05,\n       1.15494957e-04, 4.52861823e-05, 2.70953611e-03, 8.92993485e-05,\n       6.56855060e-04, 5.97433711e-04, 6.54181605e-03, 3.16134479e-04,\n       3.17707199e-05, 7.55788235e-04, 4.78257891e-04, 6.25706976e-04,\n       6.16560224e-04, 3.36538046e-03, 3.36947007e-04, 1.76718575e-04,\n       1.17425232e-04, 5.80884189e-05, 2.77096202e-04, 1.62438111e-04,\n       8.90218143e-05, 1.59118252e-04, 8.15933672e-05, 2.98451723e-05,\n       3.38842583e-05, 4.20753204e-05, 5.92249598e-05, 2.04119761e-03,\n       1.92499050e-04, 1.70979503e-04, 3.40652477e-05, 1.31491965e-04,\n       8.21212132e-04, 1.08208456e-04, 1.18655351e-03, 1.14115013e-03,\n       1.83218319e-04, 2.24435306e-03, 1.53482985e-03, 4.37169569e-04,\n       5.12674924e-05, 4.41571086e-04, 2.10155011e-03, 8.21979251e-04,\n       4.54420369e-04, 1.20259647e-04, 1.36693372e-04, 1.77547583e-04,\n       3.85780557e-04, 1.52255889e-04, 3.05523223e-04, 2.23218682e-04,\n       8.42244553e-05, 4.91426399e-05, 2.28705336e-04, 2.35571191e-01,\n       3.91364796e-04, 1.59028824e-03, 2.08079070e-03, 2.35007290e-04,\n       1.88904093e-03, 1.17757339e-02, 4.27635896e-05, 7.70165119e-03,\n       1.28121188e-04, 7.71293635e-05, 2.12823055e-04, 6.94572926e-04,\n       1.79753150e-03, 1.75756365e-02, 1.95565153e-04, 4.17823758e-05,\n       6.84416154e-04, 2.08093756e-04, 7.18265073e-03, 7.24041695e-03,\n       2.00546440e-03, 1.31930909e-04, 2.56191212e-04, 8.10319092e-03,\n       3.55168995e-05, 7.70288112e-04, 1.24274811e-03, 6.01051201e-04,\n       5.29863115e-04, 8.16396059e-05, 7.35288719e-03, 1.42475183e-04,\n       4.04049410e-04, 2.34894585e-02, 5.34988882e-04, 6.75707031e-03,\n       2.90901022e-04, 2.05076911e-04, 4.97713801e-04, 1.32400732e-04,\n       7.08208318e-05, 6.31188799e-04, 2.22104508e-03, 3.83462000e-04,\n       2.37384724e-04, 1.08537113e-03, 4.95959190e-04, 7.86215125e-04,\n       7.71811756e-04, 4.05808591e-04, 5.94767788e-03, 3.01911332e-05,\n       6.85436046e-03, 3.70079954e-03, 1.09665285e-04, 2.20342030e-04,\n       9.93816741e-03, 5.41722984e-04, 1.35847228e-02, 5.60720742e-04,\n       6.77515869e-04, 4.06697742e-04, 9.50517715e-05, 1.39990618e-04,\n       4.90448577e-03, 2.77921255e-03, 1.61573364e-04, 5.46384603e-04,\n       2.29761302e-02, 1.49201398e-04, 7.90510047e-03, 1.78767415e-03,\n       2.10165344e-02, 2.07463832e-04, 1.79146975e-03, 1.62394363e-02,\n       1.47762359e-04, 1.26276771e-03, 1.31679289e-02, 6.81179226e-05,\n       9.63167008e-03, 3.34827274e-01, 3.28515234e-05, 1.24705362e-03,\n       9.55861105e-05, 9.85395818e-05, 6.54253503e-03, 2.25479118e-04,\n       4.90794133e-04, 5.44229299e-02, 6.51474227e-04, 5.55540668e-04,\n       9.46129207e-04, 4.80695802e-04, 5.83344314e-04, 7.91685816e-05,\n       1.11389709e-04, 3.74656986e-04, 2.08009136e-04, 5.47886535e-04,\n       1.70231011e-04, 4.45949525e-04, 1.51677639e-04, 1.31140929e-02,\n       3.66176355e-05, 3.61912353e-05, 4.16607043e-04, 3.43365199e-03,\n       1.71059102e-03, 1.22208819e-02, 1.05523432e-04, 2.57759035e-04,\n       8.99222493e-03, 3.17251834e-05, 2.60122790e-04, 5.35000348e-04,\n       1.02304865e-03, 3.32640571e-04, 2.40559442e-04, 1.92483538e-03,\n       2.65336246e-03, 1.34134584e-03, 1.87822399e-04, 1.44264719e-04,\n       7.60195180e-05, 5.72583449e-05, 3.64309206e-04, 8.16008469e-05,\n       1.15957220e-04, 5.74901816e-04, 4.55394125e-04, 1.45908212e-04,\n       2.09754158e-04, 2.34528372e-04, 2.22233866e-04, 2.03223644e-05,\n       1.65414216e-03, 4.25389066e-04, 7.06113293e-04, 1.09760920e-04],\n      dtype=float32)}\n{'classes': 59, 'probabilities': array([4.70614905e-04, 3.09083192e-03, 1.24597471e-04, 6.10500574e-05,\n       1.50978347e-04, 5.61322086e-05, 2.47041904e-03, 9.24501219e-05,\n       5.66073228e-04, 6.79263612e-04, 9.24783945e-03, 2.94353085e-04,\n       6.89113076e-05, 4.66455182e-04, 4.94408363e-04, 6.88488421e-04,\n       6.00886939e-04, 3.83563130e-03, 4.63092321e-04, 3.14201403e-04,\n       1.39085372e-04, 6.07748807e-05, 3.22749576e-04, 2.00018199e-04,\n       1.13244831e-04, 2.11992112e-04, 9.88665342e-05, 4.29453139e-05,\n       3.74220399e-05, 4.80405906e-05, 1.13855524e-04, 2.14927690e-03,\n       2.38867287e-04, 2.86570896e-04, 4.79797382e-05, 1.74388930e-04,\n       9.94653208e-04, 1.80732575e-04, 1.30800996e-03, 1.67187524e-03,\n       3.23326152e-04, 2.67378776e-03, 1.81268470e-03, 7.33840803e-04,\n       4.63462493e-05, 6.19056576e-04, 2.15746858e-03, 6.65998727e-04,\n       5.92189666e-04, 9.98053874e-05, 1.73195687e-04, 2.55616935e-04,\n       3.61819519e-04, 1.70539977e-04, 6.48178859e-04, 2.27313678e-04,\n       1.61207136e-04, 6.22895532e-05, 2.75915721e-04, 2.61256963e-01,\n       3.68393026e-04, 1.80041278e-03, 2.21075374e-03, 2.51612335e-04,\n       2.66827550e-03, 1.18522095e-02, 6.58008576e-05, 7.62460520e-03,\n       1.70821324e-04, 1.36890667e-04, 2.88669136e-04, 1.26929651e-03,\n       1.09422393e-03, 1.46837058e-02, 2.05209450e-04, 4.96015928e-05,\n       9.32229974e-04, 2.60718953e-04, 6.98556658e-03, 7.58975511e-03,\n       2.07759812e-03, 1.67863487e-04, 3.01421969e-04, 7.44214514e-03,\n       3.38568498e-05, 5.88872877e-04, 1.73057662e-03, 5.99543506e-04,\n       6.29980641e-04, 1.03095146e-04, 5.48115605e-03, 2.37945205e-04,\n       4.26939485e-04, 2.96900459e-02, 7.59899151e-04, 1.00410124e-02,\n       2.85001704e-04, 2.80439534e-04, 7.71177467e-04, 1.17731113e-04,\n       5.82492030e-05, 1.16481923e-03, 2.12097890e-03, 6.59887039e-04,\n       3.31627874e-04, 1.05606986e-03, 5.83270565e-04, 1.67040678e-03,\n       1.21445837e-03, 4.00793622e-04, 6.41582394e-03, 4.75374000e-05,\n       6.28175866e-03, 4.15443163e-03, 2.30746067e-04, 2.49310833e-04,\n       9.62448120e-03, 5.43677015e-04, 3.47810313e-02, 9.94520378e-04,\n       8.34666716e-04, 3.99860757e-04, 1.06753352e-04, 1.61456075e-04,\n       7.71133183e-03, 3.62278591e-03, 2.35253945e-04, 1.01774791e-03,\n       2.45927442e-02, 2.28362813e-04, 5.32464730e-03, 2.61946628e-03,\n       4.17108573e-02, 2.47282354e-04, 1.65044528e-03, 1.99198704e-02,\n       1.73709719e-04, 1.76497095e-03, 1.48725668e-02, 1.24007653e-04,\n       9.60613787e-03, 2.52937496e-01, 3.60489539e-05, 2.00133352e-03,\n       1.17769290e-04, 1.68395418e-04, 8.64190608e-03, 2.75594241e-04,\n       5.64261456e-04, 3.36816870e-02, 7.00063538e-04, 4.41438868e-04,\n       2.02516397e-03, 5.63518784e-04, 1.01670949e-03, 8.39472777e-05,\n       8.71116426e-05, 6.17324200e-04, 2.03854695e-04, 6.86737883e-04,\n       1.47297353e-04, 4.34805377e-04, 1.72553133e-04, 1.38734169e-02,\n       6.31120420e-05, 4.02961341e-05, 6.53290306e-04, 3.65956803e-03,\n       1.65016588e-03, 1.20081473e-02, 1.76029265e-04, 4.08907508e-04,\n       7.59631954e-03, 9.42868501e-05, 3.07582493e-04, 4.88510355e-04,\n       1.21221121e-03, 4.14377573e-04, 2.78230436e-04, 1.84946461e-03,\n       3.06897634e-03, 1.31204037e-03, 2.62090063e-04, 1.43531346e-04,\n       9.47311491e-05, 1.02083090e-04, 4.39293479e-04, 1.20628989e-04,\n       1.24842365e-04, 7.04001926e-04, 6.53848809e-04, 1.81991796e-04,\n       2.96936400e-04, 2.61505833e-04, 2.82600900e-04, 3.71083770e-05,\n       2.48120725e-03, 4.97550238e-04, 6.28091220e-04, 1.48173000e-04],\n      dtype=float32)}\n"
    }
   ],
   "source": [
    "%pycache\n",
    "predictions = nas_est.predict(input_fn=imagenet_eval.input_fn,checkpoint_path=ckpt,yield_single_examples=True)\n",
    "c=0\n",
    "for i in predictions:\n",
    "    c=c+1\n",
    "    proba = i['probabilities']\n",
    "    if (c>3):\n",
    "        break"
   ]
  },
  {
   "cell_type": "code",
   "execution_count": 17,
   "metadata": {},
   "outputs": [
    {
     "output_type": "execute_result",
     "data": {
      "text/plain": "[(59, 0.26125696),\n (141, 0.2529375),\n (132, 0.041710857),\n (118, 0.03478103),\n (149, 0.033681687)]"
     },
     "metadata": {},
     "execution_count": 17
    }
   ],
   "source": [
    "\n",
    "result = nlargest(5, enumerate(proba), itemgetter(1))\n",
    "result"
   ]
  },
  {
   "cell_type": "code",
   "execution_count": 11,
   "metadata": {},
   "outputs": [
    {
     "output_type": "stream",
     "name": "stderr",
     "text": "UsageError: Line magic function `%pycache` not found.\n"
    }
   ],
   "source": [
    "%pycache\n",
    "train_results_v2_0 =train_results(ckpt =\"/Users/roxanefischer/Desktop/tiny_imagenet_local/v2/model.ckpt-0\", train_steps = 10)\n",
    "train_results_v2_200 =train_results(ckpt =\"/Users/roxanefischer/Desktop/tiny_imagenet_local/v2/model.ckpt-200\", train_steps = 10)\n",
    "train_results_v2_400 =train_results(ckpt =\"/Users/roxanefischer/Desktop/tiny_imagenet_local/v2/model.ckpt-400\", train_steps = 10)\n",
    "\n",
    "train_results_v3_0 =train_results(ckpt =\"/Users/roxanefischer/Desktop/tiny_imagenet_local/v3/model.ckpt-0\", train_steps = 10)\n",
    "train_results_v3_200 =train_results(ckpt =\"/Users/roxanefischer/Desktop/tiny_imagenet_local/v3/model.ckpt-200\", train_steps = 10)\n",
    "train_results_v3_400 =train_results(ckpt =\"/Users/roxanefischer/Desktop/tiny_imagenet_local/v3/model.ckpt-400\", train_steps = 10)"
   ]
  }
 ],
 "metadata": {
  "language_info": {
   "codemirror_mode": {
    "name": "ipython",
    "version": 3
   },
   "file_extension": ".py",
   "mimetype": "text/x-python",
   "name": "python",
   "nbconvert_exporter": "python",
   "pygments_lexer": "ipython3",
   "version": "3.6.10-final"
  },
  "orig_nbformat": 2,
  "kernelspec": {
   "name": "python361064bitnasconda8536d71a91254de48e7a72aa4a595c9c",
   "display_name": "Python 3.6.10 64-bit ('nas': conda)"
  }
 },
 "nbformat": 4,
 "nbformat_minor": 2
}